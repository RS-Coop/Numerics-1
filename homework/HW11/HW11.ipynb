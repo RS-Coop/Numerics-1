{
 "cells": [
  {
   "cell_type": "markdown",
   "metadata": {},
   "source": [
    "# Numerics 1: Homework 11"
   ]
  },
  {
   "cell_type": "code",
   "execution_count": 1,
   "metadata": {},
   "outputs": [],
   "source": [
    "import numpy as np\n",
    "import matplotlib.pyplot as plt\n",
    "import seaborn as sns\n",
    "import scipy.integrate as spi\n",
    "\n",
    "sns.set()"
   ]
  },
  {
   "cell_type": "markdown",
   "metadata": {},
   "source": [
    "# Problem 1\n",
    "\n",
    "We investigate composite Trapezoidal and composite Simpson's rules for numerical quadrature."
   ]
  },
  {
   "cell_type": "markdown",
   "metadata": {},
   "source": [
    "## a)\n",
    "We begin by writing functions for applying our two rules on an arbitrary interval for an arbitrary function -- we assume the interval and function are valid."
   ]
  },
  {
   "cell_type": "code",
   "execution_count": 2,
   "metadata": {},
   "outputs": [],
   "source": [
    "'''\n",
    "Function: compTrap -> Composite Trapezoidal rule\n",
    "    Uses the composite Trapezoidal rule to compute an approximation\n",
    "    to the integral of a function on an interval. Assumes that the\n",
    "    function and interval constitute a valid integral.\n",
    "Arguments:\n",
    "    func: The callable function handle\n",
    "    a: Left hand endpoint\n",
    "    b: Right hand endpoint\n",
    "    n: Number of subintervals greater than 0\n",
    "    info: Return number of function evaluations (optional)\n",
    "'''\n",
    "def compTrap(func, a, b, n, info=False):\n",
    "    if not callable(func) or n<=0:\n",
    "        raise ValueError('Function not callable, or non-positive number of subintervals.')\n",
    "        \n",
    "    x = np.linspace(a, b, n+1) #Evaluation locations\n",
    "    h = x[1] - x[0] #Spacing\n",
    "    \n",
    "    f = func(x) #Evaluate the function at all locations\n",
    "    f[0], f[-1] = 0.5*f[0], 0.5*f[-1] #Weight the endpoints\n",
    "    \n",
    "    if info:\n",
    "        return h*np.sum(f), len(x)\n",
    "    else:\n",
    "        return h*np.sum(f)\n",
    "\n",
    "'''\n",
    "function: compSimp -> Composite Simpson's rule\n",
    "    Uses the composite Simpson's rule to compute an approximation\n",
    "    to the integral of a function on an interval. Assumes that the\n",
    "    function and interval constitute a valid integral.\n",
    "Arguments:\n",
    "    func: The callable function handle\n",
    "    a: Left hand endpoint\n",
    "    b: Right hand endpoint\n",
    "    n: Number of subintervals, is greater than 2 and even\n",
    "    info: Return number of function evaluations (optional)\n",
    "'''\n",
    "def compSimp(func, a, b, n, info=False):\n",
    "    if not callable(func) or n<=0:\n",
    "        raise ValueError('Function not callable, or non-positive number of subintervals.')\n",
    "        \n",
    "    x = np.linspace(a, b, n+1) #Evaluation locations\n",
    "    h = x[1] - x[0] #Spacing\n",
    "    \n",
    "    f = func(x) #Evaluate the function at all locations\n",
    "    f[2:n-1:2] *= 2 #All even terms sans endpoint\n",
    "    f[1:n:2] *= 4 #All odd terms sans endpoint\n",
    "    \n",
    "    if info:\n",
    "        return (h/3)*np.sum(f), len(x)\n",
    "    else:\n",
    "        return (h/3)*np.sum(f)"
   ]
  },
  {
   "cell_type": "markdown",
   "metadata": {},
   "source": [
    "We are considering the integral given below.\n",
    "\n",
    "$$ \\int_{-5}^5\\frac{1}{1+s^2}ds $$\n",
    "\n",
    "We will try out our functions to make sure we get a reasonable answer free of any errors, but we will not do any analysis yet."
   ]
  },
  {
   "cell_type": "code",
   "execution_count": 3,
   "metadata": {},
   "outputs": [],
   "source": [
    "a = -5\n",
    "b = 5\n",
    "\n",
    "def f(s):\n",
    "    return 1/(1+s**2)"
   ]
  },
  {
   "cell_type": "code",
   "execution_count": 4,
   "metadata": {},
   "outputs": [
    {
     "name": "stdout",
     "output_type": "stream",
     "text": [
      "2.7467768808078956 2.746801526895768\n"
     ]
    }
   ],
   "source": [
    "n = 100\n",
    "\n",
    "T = compTrap(f, a, b, n)\n",
    "S = compSimp(f, a, b, n)\n",
    "\n",
    "print(T,S)"
   ]
  },
  {
   "cell_type": "markdown",
   "metadata": {},
   "source": [
    "Seems like we are good to go."
   ]
  },
  {
   "cell_type": "markdown",
   "metadata": {},
   "source": [
    "## b).\n",
    "Using the error estimates for the composite Trapezoidal and composite Simpson's rules we can choose the number of subintervals ($n$) to satisfy the following:\n",
    "\n",
    "$$\n",
    "E_T(n)=\\Big| \\int_{-5}^5\\frac{1}{1+s^2}ds - T_n \\Big| < 10^{-4} \\:\\:\\text{and}\\:\\: E_S(n)=\\Big| \\int_{-5}^5\\frac{1}{1+s^2}ds - S_n \\Big| < 10^{-4}\n",
    "$$\n",
    "\n",
    "Where $T_n$ and $S_n$ are the approximations using the Trapezoidal and Simpson's methods with respectively."
   ]
  },
  {
   "cell_type": "markdown",
   "metadata": {},
   "source": [
    "Starting with the Trapezoidal method we know that the absolute value of the error is given by the following formula:\n",
    "\n",
    "$$ E_T(n) = \\frac{h^2}{12}(b-a)|f''(\\eta)|,\\:\\eta\\in[a,b] $$\n",
    "\n",
    "We note that in our case $a=-5$ and $b=5$. To use this we will need the second derivative of our function which is given as...\n",
    "\n",
    "$$ f''(s) = \\frac{8s^2}{(1+s^2)^3} - \\frac{2}{(1+s^2)^2} $$"
   ]
  },
  {
   "cell_type": "markdown",
   "metadata": {},
   "source": [
    "We will maximize the derivative magnitude to ensure that we choose an appropriate number of subintervals. It is clear to see that this will occur at $s=0$, and result in $f''(0)=-2$. Plugging this into our error equation along with $a$, $b$, and the definition for $h$, we have the following:\n",
    "\n",
    "$$ E_T(n) \\leq \\frac{2(10)^3}{12n^2} $$\n",
    "\n",
    "We want $E_T(n) < 10^{-4}$, so we solve the resulting inequality for n and obtain...\n",
    "\n",
    "$$ \\sqrt{\\frac{10^7}{6}} < n $$"
   ]
  },
  {
   "cell_type": "markdown",
   "metadata": {},
   "source": [
    "Moving on to Simpson's method we have the following formula for the absolute error:\n",
    "\n",
    "$$ \\frac{h^4}{180}(b-a)f^{(4)}(\\eta),\\:\\eta\\in[a,b] $$\n",
    "\n",
    "Again, we note that in our case $a=-5$ and $b=5$. The fourth derivative of our function is given as ...\n",
    "\n",
    "$$ \\frac{384s^4}{(1 + s^2)^5} - \\frac{288s^2}{(1 + s^2)^4} + \\frac{24}{(1 + s^2)^3} $$"
   ]
  },
  {
   "cell_type": "markdown",
   "metadata": {},
   "source": [
    "To maximize our derivative we take $s=0$ which gives $f^{(4)}(0)=24$. We then get the following inequality for the error:\n",
    "\n",
    "$$ E_S(n) \\leq \\frac{24(10)^5}{180n^4} $$\n",
    "\n",
    "Again, we want $E_S(n)<10^{-4}$ which gives the following:\n",
    "\n",
    "$$ \\Big(\\frac{24\\cdot10^9}{180}\\Big)^{1/4} < n $$"
   ]
  },
  {
   "cell_type": "markdown",
   "metadata": {},
   "source": [
    "We need to subintervals to be integers (and in the case of Simpson's, even), so we will use our bounds to adjust."
   ]
  },
  {
   "cell_type": "code",
   "execution_count": 5,
   "metadata": {},
   "outputs": [
    {
     "data": {
      "text/plain": [
       "4082.48290463863"
      ]
     },
     "execution_count": 5,
     "metadata": {},
     "output_type": "execute_result"
    }
   ],
   "source": [
    "((10e7)/6)**(1/2)"
   ]
  },
  {
   "cell_type": "code",
   "execution_count": 6,
   "metadata": {},
   "outputs": [
    {
     "data": {
      "text/plain": [
       "191.08855844087336"
      ]
     },
     "execution_count": 6,
     "metadata": {},
     "output_type": "execute_result"
    }
   ],
   "source": [
    "((10e9)*24/180)**(1/4)"
   ]
  },
  {
   "cell_type": "markdown",
   "metadata": {},
   "source": [
    "So we take our critical values of n as follows:\n",
    "\n",
    "$$ \\boxed{n_T = 4083,\\:\\: n_S = 192} $$"
   ]
  },
  {
   "cell_type": "markdown",
   "metadata": {},
   "source": [
    "## c).\n",
    "We now compare our methods defined above using the values of $n$ obtained from the theory above to a built in adaptive quadrature (Python equivalent of *quad*)."
   ]
  },
  {
   "cell_type": "code",
   "execution_count": 7,
   "metadata": {},
   "outputs": [
    {
     "name": "stdout",
     "output_type": "stream",
     "text": [
      "2.746801533890032\n"
     ]
    }
   ],
   "source": [
    "exact = 2*np.arctan(5) #Exact value of the integral\n",
    "print(exact)"
   ]
  },
  {
   "cell_type": "markdown",
   "metadata": {},
   "source": [
    "We can see the exact analytic value of the integral given above for reference."
   ]
  },
  {
   "cell_type": "code",
   "execution_count": 8,
   "metadata": {},
   "outputs": [],
   "source": [
    "n_T = 4083\n",
    "n_S = 192\n",
    "\n",
    "T, evalT = compTrap(f, a, b, n_T, info=True)\n",
    "S, evalS = compSimp(f, a, b, n_S, info=True)"
   ]
  },
  {
   "cell_type": "code",
   "execution_count": 9,
   "metadata": {},
   "outputs": [
    {
     "name": "stdout",
     "output_type": "stream",
     "text": [
      "Trapezoidal -> Result: 2.746802, Error: 0.00000001, Evaluations: 4084\n",
      "Simpson's -> Result: 2.746802, Error: 0.000000001, Evaluations: 193\n"
     ]
    }
   ],
   "source": [
    "print('Trapezoidal -> Result: {:f}, Error: {:.8f}, Evaluations: {}'.format(T, np.abs(T-exact), evalT))\n",
    "print(\"Simpson's -> Result: {:f}, Error: {:.9f}, Evaluations: {}\".format(S, np.abs(S-exact), evalS))"
   ]
  },
  {
   "cell_type": "code",
   "execution_count": 10,
   "metadata": {},
   "outputs": [],
   "source": [
    "tol_1 = 10e-4\n",
    "tol_2 = 10e-6\n",
    "\n",
    "q1, _, info1 = spi.quad(f, a, b, epsabs=tol_1, full_output=1)\n",
    "q2, _, info2 = spi.quad(f, a, b, epsabs=tol_2, full_output=1)"
   ]
  },
  {
   "cell_type": "code",
   "execution_count": 11,
   "metadata": {},
   "outputs": [
    {
     "name": "stdout",
     "output_type": "stream",
     "text": [
      "quad(10e-4) -> Result: 2.746802, Error: 0.00000000002, Evaluations: 63\n",
      "quad(10e-6) -> Result: 2.746802, Error: 0.00000000001, Evaluations: 105\n"
     ]
    }
   ],
   "source": [
    "print('quad(10e-4) -> Result: {:f}, Error: {:.11f}, Evaluations: {}'.format(q1, np.abs(q1-exact), info1['neval']))\n",
    "print('quad(10e-6) -> Result: {:f}, Error: {:.11f}, Evaluations: {}'.format(q2, np.abs(q2-exact), info2['neval']))"
   ]
  },
  {
   "cell_type": "markdown",
   "metadata": {},
   "source": [
    "We can see the results of all of our quadrature given above. Importantly, we note that the adaptive quadrature (even with a smaller tolerance) requires far fewer function evaluations than the Trapezoidal or Simpson's methods. In particular, to achieve the same accuracy ($10^{-4}$), the adaptive quadrature requires only 63 evaluations while Simpson's requires 193, and Trapezoidal a crazy 4084. Clearly whatever is happening inside the adaptive quadrature is much more efficient than our basic Newton-Cotes formulae."
   ]
  },
  {
   "cell_type": "markdown",
   "metadata": {},
   "source": [
    "# Problem 3"
   ]
  },
  {
   "cell_type": "markdown",
   "metadata": {},
   "source": [
    "We apply the midpoint rule, composite Trapezoidal rule, and the composite Simpson's rule to the following integral:\n",
    "\n",
    "$$ -4\\int_0^1xln(x)dx = 1 $$\n",
    "\n",
    "We use $n=2,4,8,16,\\ldots,512$.\n",
    "\n",
    "We begin by writing code to execute the midpoint rule for an arbitrary function on an arbitrary interval, assuming they are valid."
   ]
  },
  {
   "cell_type": "code",
   "execution_count": 12,
   "metadata": {},
   "outputs": [],
   "source": [
    "'''\n",
    "function: midpoint -> Midpoint Riemman sum\n",
    "    Uses the composite Midpoint rule to compute an approximation\n",
    "    to the integral of a function on an interval. Assumes that the\n",
    "    function and interval constitute a valid integral.\n",
    "Arguments:\n",
    "    func: The callable function handle\n",
    "    a: Left hand endpoint\n",
    "    b: Right hand endpoint\n",
    "    n: Number of subintervals, is greater than 0 and even\n",
    "'''\n",
    "def compMid(func, a, b, n):\n",
    "    if not callable(func) or n<=0:\n",
    "        raise ValueError('Function not callable, or non-positive number of subintervals.')\n",
    "\n",
    "    x = np.linspace(a, b, n+3) #Evaluation locations\n",
    "    h = x[1]-x[0] #Spacing\n",
    "    \n",
    "    f = func(x) #Evaluate the function at all locations\n",
    "    \n",
    "    return 2*h*np.sum(f[1:-1:2]) #Only sum even points"
   ]
  },
  {
   "cell_type": "markdown",
   "metadata": {},
   "source": [
    "We note that when we define our function below we account for the fact that $ln(0)$ is undefined (or limits to $-\\infty$) even though the function $xln(x)$ evaluated at zero is zero."
   ]
  },
  {
   "cell_type": "code",
   "execution_count": 13,
   "metadata": {},
   "outputs": [],
   "source": [
    "a = 0 #Left hand endpoint\n",
    "b = 1 #Right hand endpoint\n",
    "\n",
    "exact = 1 #Exact value of integral\n",
    "n_vec = np.array([2**i for i in range(1,10)]) #Subintervals\n",
    "\n",
    "#Define our function\n",
    "def f(x):\n",
    "    result = np.zeros(len(x))\n",
    "    if x[0] == 0 and x[-1] == 1:\n",
    "        result[1:-1] = x[1:-1]*np.log(x[1:-1])\n",
    "    else:\n",
    "        result = x*np.log(x)\n",
    "    \n",
    "    return result"
   ]
  },
  {
   "cell_type": "code",
   "execution_count": 14,
   "metadata": {},
   "outputs": [
    {
     "data": {
      "image/png": "[encoded data removed]",
      "text/plain": [
       "<Figure size 720x720 with 1 Axes>"
      ]
     },
     "metadata": {},
     "output_type": "display_data"
    }
   ],
   "source": [
    "fig, ax = plt.subplots(1, 1, figsize=(10,10))\n",
    "F = np.zeros((3,len(n_vec)))\n",
    "\n",
    "#For each n use all three methods\n",
    "for i,n in enumerate(n_vec):\n",
    "    F[0,i] = np.abs(-4*compTrap(f, a, b, n) - 1)\n",
    "    F[1,i] = np.abs(-4*compSimp(f, a, b, n) - 1)\n",
    "    F[2,i] = np.abs(-4*compMid(f, a, b, n) - 1)\n",
    "    \n",
    "ax.loglog(1.0/n_vec, F[0,:])\n",
    "ax.loglog(1.0/n_vec, F[1,:])\n",
    "ax.loglog(1.0/(n_vec+2), F[2,:])\n",
    "\n",
    "ax.set_title('Absolute Error in Numerical Integration')\n",
    "ax.set_xlabel('h (stepsize)')\n",
    "ax.set_ylabel('Absolute error')\n",
    "ax.legend(['Composite Trapezoidal', \"Composite Simpson's\", 'Composite Midpoint']);"
   ]
  },
  {
   "cell_type": "markdown",
   "metadata": {},
   "source": [
    "In the composite Trapezoidal and composite Midpoint rules we have an error term that is $\\mathcal{O}(h^2)$, and for composite Simpson's it is $\\mathcal{O}(h^4)$. With this we expect to see similar error for Trapezoidal and Midpoint with a slope of about 2, and smaller error (with a slope of about 4) for Simpson's.\n",
    "\n",
    "This is indeed what we find in the figure above. We see that overall Simpson's rule out performs the other two methods. As well, Midpoint and Trapezoidal have roughly the same error, and we note that the slopes appear to match expectations as well. Lastly, we note that the stepsize for Midpoint is actually $\\frac{b-a}{n+2}$ which is why the line does not extend as far as the other two."
   ]
  }
 ],
 "metadata": {
  "kernelspec": {
   "display_name": "Python 3",
   "language": "python",
   "name": "python3"
  },
  "language_info": {
   "codemirror_mode": {
    "name": "ipython",
    "version": 3
   },
   "file_extension": ".py",
   "mimetype": "text/x-python",
   "name": "python",
   "nbconvert_exporter": "python",
   "pygments_lexer": "ipython3",
   "version": "3.7.6"
  }
 },
 "nbformat": 4,
 "nbformat_minor": 4
}
