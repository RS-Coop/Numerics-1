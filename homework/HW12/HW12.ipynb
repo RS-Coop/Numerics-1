{
 "cells": [
  {
   "cell_type": "markdown",
   "metadata": {},
   "source": [
    "# Problem 3"
   ]
  },
  {
   "cell_type": "code",
   "execution_count": 8,
   "metadata": {},
   "outputs": [],
   "source": [
    "import numpy as np\n",
    "import scipy.integrate as spi\n",
    "import scipy.special as sps\n",
    "import matplotlib.pyplot as plt"
   ]
  },
  {
   "cell_type": "markdown",
   "metadata": {},
   "source": [
    "The gamma function is defined as follows:\n",
    "\n",
    "$$ \\Gamma(x)=\\int_0^{\\infty}t^{x-1}e^{-t}dt,\\: x>0 $$\n",
    "\n",
    "We will compute the value of this function using a variety of approaches."
   ]
  },
  {
   "cell_type": "markdown",
   "metadata": {},
   "source": [
    "We first define the function that we are integrating, which we will do in two pieces to facillitate the use of Gauss-Laguerre later on."
   ]
  },
  {
   "cell_type": "code",
   "execution_count": 2,
   "metadata": {},
   "outputs": [],
   "source": [
    "#Computes the t^(x-1) factor\n",
    "#Assumes x>0\n",
    "def tx(t, x):\n",
    "    return t**(x-1)\n",
    "\n",
    "#Computes the full integrand\n",
    "def func(t, x):\n",
    "    return tx(t,x)*np.exp(-t)"
   ]
  },
  {
   "cell_type": "code",
   "execution_count": 5,
   "metadata": {},
   "outputs": [
    {
     "name": "stdout",
     "output_type": "stream",
     "text": [
      "[1.0000e+00 6.0000e+00 1.2000e+02 5.0400e+03 3.6288e+05]\n"
     ]
    }
   ],
   "source": [
    "x = np.array([2,4,6,8,10]) #Test locations\n",
    "\n",
    "exact = sps.factorial(x-1) #Exact values\n",
    "print(exact)"
   ]
  },
  {
   "cell_type": "markdown",
   "metadata": {},
   "source": [
    "To analyze our approximations we will be using the following test locations: $x=2,4,6,8,10$. Given that these are all positive integers we can exploit the fact that $\\Gamma(k)=(k-1)!,\\:k\\in\\mathbb{N}$ to get exact values. These exact values can be seen printed above, which we note is the same result as the SciPy gamma function (Matlab equivalent in Python), the output of which can be see below. "
   ]
  },
  {
   "cell_type": "code",
   "execution_count": 6,
   "metadata": {},
   "outputs": [
    {
     "name": "stdout",
     "output_type": "stream",
     "text": [
      "[1.0000e+00 6.0000e+00 1.2000e+02 5.0400e+03 3.6288e+05]\n"
     ]
    }
   ],
   "source": [
    "print(sps.gamma(x))"
   ]
  },
  {
   "cell_type": "markdown",
   "metadata": {},
   "source": [
    "## a)."
   ]
  },
  {
   "cell_type": "markdown",
   "metadata": {},
   "source": [
    "Here we want to apply the composite Trapezoidal rule, but given that we are integrating on an infinite interval we need to stop somewhere. We have two things to consider as we do this. First, we want to choose a truncation point that does not cut off too much of the area. Second, we want to approximate our truncated region well, so it can't be too big or else computational complexity will cause problems."
   ]
  },
  {
   "cell_type": "markdown",
   "metadata": {},
   "source": [
    "First we define our composite trapezoidal function."
   ]
  },
  {
   "cell_type": "code",
   "execution_count": 22,
   "metadata": {},
   "outputs": [],
   "source": [
    "'''\n",
    "Function: compTrap -> Composite Trapezoidal rule\n",
    "    Uses the composite Trapezoidal rule to compute an approximation\n",
    "    to the integral of a function on an interval. Assumes that the\n",
    "    function and interval constitute a valid integral.\n",
    "Input:\n",
    "    func: The callable function handle\n",
    "    a: Left hand endpoint\n",
    "    b: Right hand endpoint\n",
    "    n: Number of subintervals greater than 0\n",
    "    info: Return number of function evaluations (optional)\n",
    "Output:\n",
    "    I: Integral approximation\n",
    "    len(x): Number of function evaluations (optional)\n",
    "'''\n",
    "def compTrap(func, a, b, n, info=False, args=()):\n",
    "    if not callable(func) or n<=0:\n",
    "        raise ValueError('Function not callable, or non-positive number of subintervals.')\n",
    "        \n",
    "    x = np.linspace(a, b, n+1) #Evaluation locations\n",
    "    h = x[1] - x[0] #Spacing\n",
    "    \n",
    "    f = func(x, *args) #Evaluate the function at all locations\n",
    "    f[0], f[-1] = 0.5*f[0], 0.5*f[-1] #Weight the endpoints\n",
    "    \n",
    "    I = h*np.sum(f)\n",
    "    \n",
    "    if info:\n",
    "        return I, len(x)\n",
    "    else:\n",
    "        return I"
   ]
  },
  {
   "cell_type": "markdown",
   "metadata": {},
   "source": [
    "In order to determine our interval endpoint (we always start at 0) and our step size we need to do some investigation. Depending on the value of $x$ the gamma function can look more like exponential decay, or more like some sort of weird gaussian. Lets plot our function for the two most extreme values (2 and 10)."
   ]
  },
  {
   "cell_type": "code",
   "execution_count": 14,
   "metadata": {},
   "outputs": [
    {
     "data": {
      "image/png": "[encoded data removed]",
      "text/plain": [
       "<Figure size 720x360 with 2 Axes>"
      ]
     },
     "metadata": {
      "needs_background": "light"
     },
     "output_type": "display_data"
    }
   ],
   "source": [
    "t = np.linspace(0,100,1000)\n",
    "fig, ax = plt.subplots(1,2, figsize=(10,5))\n",
    "ax[0].plot(t, func(t,2))\n",
    "ax[1].plot(t, func(t,10));"
   ]
  },
  {
   "cell_type": "code",
   "execution_count": 34,
   "metadata": {},
   "outputs": [
    {
     "data": {
      "text/plain": [
       "3.720075976020836e-26"
      ]
     },
     "execution_count": 34,
     "metadata": {},
     "output_type": "execute_result"
    }
   ],
   "source": [
    "func(100,10)"
   ]
  },
  {
   "cell_type": "markdown",
   "metadata": {},
   "source": [
    "On the left we see a plot for $x=2$ and on the right a plot for $x=10$. We can see that it decays pretty rapidly in either case, so lets take our endpoint to be 100. The only other question is how many intervals? Lets iterate with this until we reach some kind of convergence."
   ]
  },
  {
   "cell_type": "code",
   "execution_count": 35,
   "metadata": {},
   "outputs": [],
   "source": [
    "a = 0\n",
    "b = 100"
   ]
  },
  {
   "cell_type": "code",
   "execution_count": 38,
   "metadata": {},
   "outputs": [
    {
     "name": "stdout",
     "output_type": "stream",
     "text": [
      "220\n"
     ]
    }
   ],
   "source": [
    "n = 100\n",
    "prev = compTrap(func, a, b, n, args=(10,))\n",
    "err = np.inf\n",
    "tol = 10e-12\n",
    "\n",
    "while err > tol:\n",
    "    n += 20\n",
    "    cur = compTrap(func, a, b, n, args=(10,))\n",
    "    err = np.abs(cur-prev)/np.abs(cur)\n",
    "    \n",
    "    prev = cur\n",
    "    \n",
    "print(n)"
   ]
  },
  {
   "cell_type": "markdown",
   "metadata": {},
   "source": [
    "We have iterated until the relative change in approximations was less than $10^{-12}$, which gives us 220 subintervals. This means our steb size is $100/220=0.\\bar{45}$."
   ]
  },
  {
   "cell_type": "code",
   "execution_count": 40,
   "metadata": {},
   "outputs": [],
   "source": [
    "m = 220"
   ]
  },
  {
   "cell_type": "code",
   "execution_count": 41,
   "metadata": {},
   "outputs": [],
   "source": [
    "trap = np.zeros(len(x))\n",
    "\n",
    "for i,xi in enumerate(x):\n",
    "    trap[i] = compTrap(func, a, b, m, args=(xi,))"
   ]
  },
  {
   "cell_type": "code",
   "execution_count": 42,
   "metadata": {},
   "outputs": [
    {
     "name": "stdout",
     "output_type": "stream",
     "text": [
      "[9.82958789e-01 6.00033855e+00 1.19999969e+02 5.04000001e+03\n",
      " 3.62880000e+05]\n"
     ]
    }
   ],
   "source": [
    "print(trap)"
   ]
  },
  {
   "cell_type": "markdown",
   "metadata": {},
   "source": [
    "From a quick glance at the output above we can see that composite Trapezoidal seems to be doing okay. There is clearly some error, but it doesn't look like too much. Let's look at this more by computing the absolute error with the exact function values."
   ]
  },
  {
   "cell_type": "code",
   "execution_count": 43,
   "metadata": {},
   "outputs": [
    {
     "name": "stdout",
     "output_type": "stream",
     "text": [
      "Abs. error w/ exact:\n",
      "[1.70412106e-02 3.38548812e-04 3.13197777e-05 6.23327378e-06\n",
      " 2.08575511e-06]\n",
      "\n"
     ]
    }
   ],
   "source": [
    "print('Abs. error w/ exact:\\n{}\\n'.format(np.abs(trap-exact)))"
   ]
  },
  {
   "cell_type": "markdown",
   "metadata": {},
   "source": [
    "The largest error appears in evaluating $\\Gamma(2)$ and is on the order of $10^{-2}$. This makes sense given that the peak is much sharper for smaller values of $x$."
   ]
  },
  {
   "cell_type": "markdown",
   "metadata": {},
   "source": [
    "## b)."
   ]
  },
  {
   "cell_type": "markdown",
   "metadata": {},
   "source": [
    "Here we use the Python equivalent of the Matlab *quad* function (an adaptive quadrature scheme). We will apply this on the same interval we determined earlier. We will compare the accuracy, and the number of function evaluations."
   ]
  },
  {
   "cell_type": "code",
   "execution_count": 44,
   "metadata": {},
   "outputs": [],
   "source": [
    "quad = np.zeros((2,len(x)))\n",
    "\n",
    "for i,xi in enumerate(x):\n",
    "    out = spi.quad(func, 0, b, args=(xi,), full_output=1)\n",
    "    quad[0,i] = out[0]\n",
    "    quad[1,i] = out[2]['neval']"
   ]
  },
  {
   "cell_type": "code",
   "execution_count": 45,
   "metadata": {},
   "outputs": [
    {
     "name": "stdout",
     "output_type": "stream",
     "text": [
      "Function results: \n",
      "[1.0000e+00 6.0000e+00 1.2000e+02 5.0400e+03 3.6288e+05]\n",
      "\n",
      "Function evaluations: \n",
      "[147. 189. 189. 189. 189.]\n",
      "\n"
     ]
    }
   ],
   "source": [
    "print('Function results: \\n{}\\n'.format(quad[0]))\n",
    "print('Function evaluations: \\n{}\\n'.format(quad[1]))"
   ]
  },
  {
   "cell_type": "markdown",
   "metadata": {},
   "source": [
    "We can see the results of the *quad* function above, and it appears to be doing quite well. Next, we look at the absolute error with the exact values and compare the result to that achieved using composite Trapezoidal rule."
   ]
  },
  {
   "cell_type": "code",
   "execution_count": 46,
   "metadata": {},
   "outputs": [
    {
     "name": "stdout",
     "output_type": "stream",
     "text": [
      "Abs. error w/ exact:\n",
      "[0.00000000e+00 0.00000000e+00 0.00000000e+00 0.00000000e+00\n",
      " 5.82076609e-11]\n",
      "\n"
     ]
    }
   ],
   "source": [
    "print('Abs. error w/ exact:\\n{}\\n'.format(np.abs(quad[0]-exact)))"
   ]
  },
  {
   "cell_type": "markdown",
   "metadata": {},
   "source": [
    "The only function evaluation that has any resulting error is for $\\Gamma(10)$ -- on the order of $10^{-11}$. This is noticeably different than composite Trapezoidal, specifically much better. Given that we used 220 intervals in the trapezoidal rule we know we will have 221 function evaluations. This is roughly 30-80 more than the adaptive quadrature routine requires. Altogether, we see that adaptive quadrature is more accurate and more efficient although we note that it seems to be better for smaller values of x."
   ]
  },
  {
   "cell_type": "markdown",
   "metadata": {},
   "source": [
    "## c)."
   ]
  },
  {
   "cell_type": "markdown",
   "metadata": {},
   "source": [
    "Here we use Gauss-Laguerre quadrature which is designed for the infinite interval $[0,\\infty)$ with weighting $w(t)=e^{-t}$. We have converted the provided Matlab code into Python which we can use to obtain the weights and abscissae."
   ]
  },
  {
   "cell_type": "code",
   "execution_count": 47,
   "metadata": {},
   "outputs": [],
   "source": [
    "'''\n",
    "Function: GLQuadData -> Gauss-Laguerre nodes and weights\n",
    "    Finds the node locations and associated weights for nth order\n",
    "    Gauss-Laguerre quadrature.\n",
    "Input:\n",
    "    n: Order of the quadrature rule\n",
    "Output:\n",
    "    x: Quadrature nodes\n",
    "    w: Quadrature weights\n",
    "'''\n",
    "def quadGLData(n):\n",
    "    J = np.diag(range(1, 2*n, 2)) -\\\n",
    "        np.diag(range(1, n), k=1) -\\\n",
    "        np.diag(range(1, n), k=-1)\n",
    "        \n",
    "    d, V = np.linalg.eig(J)\n",
    "    ix = np.argsort(d)\n",
    "    \n",
    "    x = d[ix]\n",
    "    w = (V[0, ix])**2\n",
    "    \n",
    "    return x, w"
   ]
  },
  {
   "cell_type": "code",
   "execution_count": 59,
   "metadata": {},
   "outputs": [],
   "source": [
    "n = 100 #set order\n",
    "t, w = quadGLData(n)\n",
    "\n",
    "quadGL = np.zeros(len(x))\n",
    "\n",
    "for i,xi in enumerate(x):\n",
    "    quadGL[i] = np.sum(tx(t,xi)*w)"
   ]
  },
  {
   "cell_type": "code",
   "execution_count": 60,
   "metadata": {},
   "outputs": [
    {
     "name": "stdout",
     "output_type": "stream",
     "text": [
      "[1.0000e+00 6.0000e+00 1.2000e+02 5.0400e+03 3.6288e+05]\n"
     ]
    }
   ],
   "source": [
    "print(quadGL)"
   ]
  },
  {
   "cell_type": "markdown",
   "metadata": {},
   "source": [
    "As with the other schemes we will compare our result with the exact values."
   ]
  },
  {
   "cell_type": "code",
   "execution_count": 61,
   "metadata": {},
   "outputs": [
    {
     "name": "stdout",
     "output_type": "stream",
     "text": [
      "Abs. error w/ exact:\n",
      "[2.17603713e-14 4.08562073e-14 2.81374923e-12 2.04636308e-10\n",
      " 5.00585884e-09]\n",
      "\n"
     ]
    }
   ],
   "source": [
    "print('Abs. error w/ exact:\\n{}\\n'.format(np.abs(quadGL-exact)))"
   ]
  },
  {
   "cell_type": "markdown",
   "metadata": {},
   "source": [
    "We see a suprising result here. Specifically, we cannot seem to achieve as good of accuracy as with the adaptive quadrature routine. As well, we notice that the approximations are better for smaller values of $x$ which sets it apart from trapezoidal. The approximations are still very good, but it is suprising that they are not as good as adaptive quadrature."
   ]
  }
 ],
 "metadata": {
  "kernelspec": {
   "display_name": "Python 3",
   "language": "python",
   "name": "python3"
  },
  "language_info": {
   "codemirror_mode": {
    "name": "ipython",
    "version": 3
   },
   "file_extension": ".py",
   "mimetype": "text/x-python",
   "name": "python",
   "nbconvert_exporter": "python",
   "pygments_lexer": "ipython3",
   "version": "3.7.6"
  }
 },
 "nbformat": 4,
 "nbformat_minor": 4
}
