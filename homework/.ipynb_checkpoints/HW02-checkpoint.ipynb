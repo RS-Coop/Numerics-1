{
 "cells": [
  {
   "cell_type": "markdown",
   "metadata": {},
   "source": [
    "# Numerics 1: Homework 02\n",
    "\n",
    "## Cooper Simpson"
   ]
  },
  {
   "cell_type": "markdown",
   "metadata": {
    "heading_collapsed": true
   },
   "source": [
    "## Setup"
   ]
  },
  {
   "cell_type": "code",
   "execution_count": 2,
   "metadata": {
    "hidden": true
   },
   "outputs": [],
   "source": [
    "import numpy as np\n",
    "from decimal import *\n",
    "from scipy.special import erf\n",
    "import pandas as pd\n",
    "import matplotlib.pyplot as plt\n",
    "from IPython.display import display\n",
    "import seaborn as sns\n",
    "sns.set()"
   ]
  },
  {
   "cell_type": "markdown",
   "metadata": {},
   "source": [
    "### Root Finding Algorithms\n",
    "The coded algorithms for the Bisection method and Newton's method are given here as they are used throughout the problems."
   ]
  },
  {
   "cell_type": "code",
   "execution_count": 3,
   "metadata": {},
   "outputs": [],
   "source": [
    "'''\n",
    "Function: Bisection\n",
    "Input:\n",
    "    a: left end point guess\n",
    "    b: right end point guess\n",
    "    f: a callable function to find the root\n",
    "    tol: tolerance for the root\n",
    "    imax: max iterations\n",
    "    info: whether to return number of iterations\n",
    "Output:\n",
    "    -the root within the tolerance\n",
    "    -number of iterations to identify root (optional)\n",
    "Errors:\n",
    "    -if given function is not callable\n",
    "    -if no identifiable root bounded by initial guesses\n",
    "'''\n",
    "def bisection(a, b, f, tol=1E-4, imax=1000, tab=False):\n",
    "    #Check if f is callable\n",
    "    if not callable(f):\n",
    "        raise ValueError('Given function not callable')\n",
    "    \n",
    "    #Check if there is a zero\n",
    "    if f(a)*f(b)>0:\n",
    "        raise ValueError('Initial guesses do not bound a zero, \\\n",
    "                         or guesses are poor.')\n",
    "    \n",
    "    #Save iterates?\n",
    "    if tab:\n",
    "        iterates = []\n",
    "        \n",
    "    #Bisect\n",
    "    for i in range(imax): #Stay under max iterations\n",
    "        c = (a+b)/2 #Take the midpoint\n",
    "        \n",
    "        if tab:\n",
    "            iterates.append(x_new)\n",
    "        \n",
    "        if f(c)==0 or (b-a)/2<tol: #Check to see if root is found\n",
    "            if tab:\n",
    "                return c, iterates\n",
    "            return c\n",
    "\n",
    "        if f(a)*f(c)<0: #Reset the interval\n",
    "            b = c\n",
    "        else:\n",
    "            a = c\n",
    "       \n",
    "    #Something failed along the way\n",
    "    raise ValueError('Maximum number of iterations exceeded.') \n",
    "\n",
    "\n",
    "'''\n",
    "Function: Newton\n",
    "Input:\n",
    "    x0: the initial root guess\n",
    "    f: a callable function for root finding\n",
    "    df: a callable derivative of the function\n",
    "    p: rate parameter for modified newtons method\n",
    "    tol: minimum acceptable tolerance\n",
    "    imax: maximum iterations\n",
    "    tab: boolean to keep track of iterates or not\n",
    "    error: (rel)ative or (abs)olute error quantification\n",
    "    decimal: use Python decimal representation\n",
    "Output:\n",
    "    -The root estimate within the tolerance if successful\n",
    "    -A tabulation of the root iterates\n",
    "Errors:\n",
    "    -If functions are not callable\n",
    "    -If maximum number of iterations are exceeded\n",
    "'''\n",
    "def newton(x0, f, df, p=1, tol=1E-6, imax=1000, tab=False, error='rel', decimal=False):\n",
    "    #Check if functions are callable\n",
    "    if not callable(f) or not callable(df):\n",
    "        raise ValueError('Function not callable')\n",
    "    \n",
    "    #Save iterates?\n",
    "    if tab:\n",
    "        E = []\n",
    "        iterates = [x0]\n",
    "        \n",
    "    #Work with decimals?\n",
    "    if decimal:\n",
    "        x0 = Decimal(x0)\n",
    "    \n",
    "    #Iterate through max iterations\n",
    "    for i in range(imax):\n",
    "        x_new = x0 - p*f(x0)/df(x0) #New root estimate\n",
    "        \n",
    "        #Calculate an error\n",
    "        if error=='rel': er = np.abs((x_new-x0)/x_new)\n",
    "        elif error=='abs': er = np.abs(x_new-x0)\n",
    "        else: ValueError('Invalid error type, \\\n",
    "                         must be (rel)ative or (abs)olute')\n",
    "        \n",
    "        if tab:\n",
    "            E.append(er)\n",
    "            iterates.append(x_new)\n",
    "        \n",
    "        #If successful return\n",
    "        if er < tol:\n",
    "            if tab:\n",
    "                return x_new, E, iterates\n",
    "            return x_new\n",
    "        \n",
    "        x0 = x_new\n",
    "\n",
    "    raise ValueError('Max iterations exceeded')"
   ]
  },
  {
   "cell_type": "markdown",
   "metadata": {},
   "source": [
    "## Problem 1\n",
    "\n",
    "Determine which of the following iterations will converge to the fixed point $x_*$ provided $x_0$ is sufficiently close. If it does converge give the order, and if linear give the rate.\n",
    "\n",
    "When considering these fixed point iterations we have to consider not only the fixed point method, but also Newton's method. This is because Newton's method is just a very specific version of fixed point iteration. "
   ]
  },
  {
   "cell_type": "markdown",
   "metadata": {},
   "source": [
    "### a). \n",
    "$x_{n+1} = -16 + 6x_n + \\frac{12}{x_n},\\:x_*=2$"
   ]
  },
  {
   "cell_type": "markdown",
   "metadata": {},
   "source": [
    "Letting $g(x) = -16+6x+\\frac{12}{x}$ we can see that $g$ is continuous around $x_*=2$. We will look at the value of the derivative at the fixed point.\n",
    "\n",
    "$$ g'(x) = 6 - \\frac{12}{x^2} \\implies |g'(x_*)| = 3 > 1 $$"
   ]
  },
  {
   "cell_type": "markdown",
   "metadata": {},
   "source": [
    "Thus we $\\boxed{\\text{cannot say}}$ that the iteration will converge to the fixed point."
   ]
  },
  {
   "cell_type": "markdown",
   "metadata": {},
   "source": [
    "### b).\n",
    "$x_{n+1} = \\frac{2}{3}x_n + \\frac{1}{x_n^2},\\:x_*=3^{1/3}$"
   ]
  },
  {
   "cell_type": "markdown",
   "metadata": {},
   "source": [
    "Letting $g(x) = \\frac{2}{3}x+\\frac{1}{x^2}$ we can see that $g$ is continuous around $x_*=3^{1/3}$.\n",
    "\n",
    "$$ g'(x) = \\frac{2}{3} - \\frac{2}{x^3} \\implies |g'(x_*)| = 0 $$\n",
    "\n",
    "Ah, so this requires more investigation. Let us see if we can write this in the form of Newton's method.\n",
    "\n",
    "$$ x_{n+1} = \\frac{2}{3}x_n + \\frac{1}{x_n^2} = x_n - \\frac{x_n}{3} + \\frac{1}{x_n^2} = x_n + \\frac{\\frac{-x_n^3}{3}+1}{x^2} = x_n - \\frac{f(x_n)}{f'(x_n)} $$\n",
    "\n",
    "Where $f(x) = \\frac{x^3}{3}-1$ and $f'(x) = x^2$"
   ]
  },
  {
   "cell_type": "markdown",
   "metadata": {},
   "source": [
    "So this iteration is in fact Newton's method. Thus, because $f(x_*)=0$ and $f'(x_*)\\neq0$ we will have at least $\\boxed{\\text{quadratic convergence}}$."
   ]
  },
  {
   "cell_type": "markdown",
   "metadata": {},
   "source": [
    "### c).\n",
    "$x_{n+1} = \\frac{12}{1+x_n},\\:x_*=3$"
   ]
  },
  {
   "cell_type": "markdown",
   "metadata": {},
   "source": [
    "Letting $g(x) = \\frac{12}{1+x}$ we can see that $g$ is continuous around the fixed point. \n",
    "\n",
    "$$ g'(x) = -12(1+x)^{-2} \\implies |g'(x_*)|=\\frac{3}{4} $$\n",
    "\n",
    "Thus we are guranteed $\\boxed{\\text{linear convergance}}$ for the iteration. The rate of this convergence is then given as $\\boxed{\\frac{3}{4}}$."
   ]
  },
  {
   "cell_type": "markdown",
   "metadata": {},
   "source": [
    "## Problem 2\n",
    "Making some assumptions, we can model the temperature in the soil, $T(x,t)$, a distance $x$ meters below the surface and $t$ seconds after a cold snap with the following equation:\n",
    "\n",
    "$$ \\frac{T(x,t)-T_s}{T_i-T_s}=\\text{erf}\\Big (\\frac{x}{2\\sqrt{\\alpha t}}\\Big) $$\n",
    "\n",
    "$T_s$ is the constant cold temperature after the snap, $T_i$ is the initial soil temperature, and $\\alpha$ is thermal conductivity (m^2/s). The error function (erf) is given as...\n",
    "\n",
    "$$ \\text{erf}(t) = \\frac{2}{\\sqrt{\\pi}}\\int_0^te^{-s^2}ds $$\n",
    "\n",
    "We will assume that $T_i=20$, $T_s=-15$, and $\\alpha = 0.138\\cdot10^{-16}$ -- with the temperatures all in degrees celsius."
   ]
  },
  {
   "cell_type": "code",
   "execution_count": 4,
   "metadata": {},
   "outputs": [],
   "source": [
    "T_i = 20\n",
    "T_s = -15\n",
    "alpha = 0.138E-6\n",
    "\n",
    "eps = 1E-13 #Tolerance"
   ]
  },
  {
   "cell_type": "markdown",
   "metadata": {},
   "source": [
    "### a).\n",
    "We will determine the depth of a water main so that it only freezes after 60 days of exposure. To do this we recast as a root finding problem in the following manner:\n",
    "\n",
    "As we are interested in the x dimension of the temperature at a certain time we will begin by isolating $T(x,t)$, and we will also plug in our temperature values.\n",
    "\n",
    "$$ \\implies T(x,t)=35\\cdot\\text{erf}\\Big(\\frac{x}{2\\sqrt{\\alpha t}}\\Big)-15 $$"
   ]
  },
  {
   "cell_type": "markdown",
   "metadata": {},
   "source": [
    "We can see that whether this function is positive or negative, and thus whether the ground is frozen or not, depends on the value of the error function. The error function is non-negative and saturates to one for non-negative arguments (i.e. $\\text{erf}(0)=0$ and $\\text{erf}(\\infty)=1$). As $x$ increases the function will move towards one and as $t$ increases it will move towards zero. Plugging in our specified time (60 days) we can look for the root of $T(x)=0$ and be sure that for $x$ greater than the root the ground will not be frozen.\n",
    "\n",
    "Converting our days to seconds we have...\n",
    "\n",
    "$$ 60d \\cdot \\frac{24h}{1d} \\cdot \\frac{60m}{1h} \\cdot \\frac{60s}{1m} = 60^3\\cdot24 = 5.184\\cdot10^6 = \\bar{t} $$\n",
    "\n",
    "Thus our root finding problem is for $f(x)=T(x,\\bar{t})=0$ giving us our function and its derivative as follows.\n",
    "\n",
    "$$ f(x)=T(x,\\bar{t})=35\\cdot\\text{erf}\\Big(\\frac{x}{2\\sqrt{\\alpha\\bar{t}}}\\Big)-15 $$\n",
    "\n",
    "$$ f'(x)=T'(x,\\bar{t})=\\frac{35}{\\sqrt{\\alpha\\bar{t}\\pi}}\\text{exp}(-\\Big(\\frac{x}{2\\sqrt{\\alpha\\bar{t}}}\\Big)^2) $$\n",
    "\n",
    "Which follows from the chain rule on the derivative of the error function and the Fundamental Theorem of Calculus. Because the function saturates quite fast we will look at our function on the interval $[0,5]$ to ensure that $f(5)>0$."
   ]
  },
  {
   "cell_type": "code",
   "execution_count": 5,
   "metadata": {},
   "outputs": [],
   "source": [
    "t_bar = 5.148E6\n",
    "\n",
    "def f(x, t=t_bar, a=alpha):\n",
    "    return 35*erf(x/(2*np.sqrt(alpha*t)))-15\n",
    "\n",
    "def df(x, t=t_bar, a=alpha):\n",
    "    return (35/(np.sqrt(alpha*t*np.pi))) * \\\n",
    "            np.exp(-(x/(2*np.sqrt(alpha*t)))**2)"
   ]
  },
  {
   "cell_type": "code",
   "execution_count": 6,
   "metadata": {},
   "outputs": [
    {
     "data": {
      "image/png": "[encoded data removed]",
      "text/plain": [
       "<Figure size 720x720 with 1 Axes>"
      ]
     },
     "metadata": {},
     "output_type": "display_data"
    }
   ],
   "source": [
    "x_bar = 5\n",
    "dx = 0.01\n",
    "x = np.arange(0,x_bar+dx,dx)\n",
    "\n",
    "fig, ax = plt.subplots(1,1,figsize=(10,10))\n",
    "\n",
    "ax.plot(x, f(x))\n",
    "ax.set_title('Temperature Function @ 60 Days')\n",
    "ax.set_xlabel('x')\n",
    "ax.set_ylabel(r'$T(x,\\bar{t})$');"
   ]
  },
  {
   "cell_type": "markdown",
   "metadata": {},
   "source": [
    "### b).\n",
    "Using the Bisection method we will solve our root finding problem described above."
   ]
  },
  {
   "cell_type": "code",
   "execution_count": 7,
   "metadata": {},
   "outputs": [
    {
     "name": "stdout",
     "output_type": "stream",
     "text": [
      "Root @ x=0.6746 meters\n"
     ]
    }
   ],
   "source": [
    "a0 = 0\n",
    "b0 = 5\n",
    "\n",
    "p_b = bisection(a0, b0, f, tol=eps)\n",
    "print('Root @ x=%.4f meters' % p_b)"
   ]
  },
  {
   "cell_type": "markdown",
   "metadata": {},
   "source": [
    "### c).\n",
    "We will solve our root finding problem using Newton's method.\n",
    "\n",
    "First, with our initial guess as $x_0=0.01$"
   ]
  },
  {
   "cell_type": "code",
   "execution_count": 8,
   "metadata": {},
   "outputs": [
    {
     "name": "stdout",
     "output_type": "stream",
     "text": [
      "Root @ x=0.6746 meters\n"
     ]
    }
   ],
   "source": [
    "x0 = 0.01\n",
    "\n",
    "p_n = newton(x0, f, df, tol=eps)\n",
    "print('Root @ x=%.4f meters' % p_n)"
   ]
  },
  {
   "cell_type": "markdown",
   "metadata": {},
   "source": [
    "Next, with our initial guess as $x_0=\\bar{x}=5$"
   ]
  },
  {
   "cell_type": "code",
   "execution_count": 9,
   "metadata": {},
   "outputs": [
    {
     "name": "stderr",
     "output_type": "stream",
     "text": [
      "/home/rs-coop/anaconda3/lib/python3.7/site-packages/ipykernel_launcher.py:87: RuntimeWarning: divide by zero encountered in double_scalars\n",
      "/home/rs-coop/anaconda3/lib/python3.7/site-packages/ipykernel_launcher.py:90: RuntimeWarning: invalid value encountered in double_scalars\n",
      "/home/rs-coop/anaconda3/lib/python3.7/site-packages/ipykernel_launcher.py:87: RuntimeWarning: invalid value encountered in double_scalars\n"
     ]
    },
    {
     "ename": "ValueError",
     "evalue": "Max iterations exceeded",
     "output_type": "error",
     "traceback": [
      "\u001b[0;31m---------------------------------------------------------------------------\u001b[0m",
      "\u001b[0;31mValueError\u001b[0m                                Traceback (most recent call last)",
      "\u001b[0;32m<ipython-input-9-57d0cafbd60c>\u001b[0m in \u001b[0;36m<module>\u001b[0;34m\u001b[0m\n\u001b[0;32m----> 1\u001b[0;31m \u001b[0mp_n\u001b[0m \u001b[0;34m=\u001b[0m \u001b[0mnewton\u001b[0m\u001b[0;34m(\u001b[0m\u001b[0;36m5\u001b[0m\u001b[0;34m,\u001b[0m \u001b[0mf\u001b[0m\u001b[0;34m,\u001b[0m \u001b[0mdf\u001b[0m\u001b[0;34m,\u001b[0m \u001b[0mtol\u001b[0m\u001b[0;34m=\u001b[0m\u001b[0meps\u001b[0m\u001b[0;34m)\u001b[0m\u001b[0;34m\u001b[0m\u001b[0;34m\u001b[0m\u001b[0m\n\u001b[0m\u001b[1;32m      2\u001b[0m \u001b[0mprint\u001b[0m\u001b[0;34m(\u001b[0m\u001b[0;34m'Root @ x=%.4f meters'\u001b[0m \u001b[0;34m%\u001b[0m \u001b[0mp_n\u001b[0m\u001b[0;34m)\u001b[0m\u001b[0;34m\u001b[0m\u001b[0;34m\u001b[0m\u001b[0m\n",
      "\u001b[0;32m<ipython-input-3-375968645729>\u001b[0m in \u001b[0;36mnewton\u001b[0;34m(x0, f, df, p, tol, imax, tab, error, decimal)\u001b[0m\n\u001b[1;32m    105\u001b[0m         \u001b[0mx0\u001b[0m \u001b[0;34m=\u001b[0m \u001b[0mx_new\u001b[0m\u001b[0;34m\u001b[0m\u001b[0;34m\u001b[0m\u001b[0m\n\u001b[1;32m    106\u001b[0m \u001b[0;34m\u001b[0m\u001b[0m\n\u001b[0;32m--> 107\u001b[0;31m     \u001b[0;32mraise\u001b[0m \u001b[0mValueError\u001b[0m\u001b[0;34m(\u001b[0m\u001b[0;34m'Max iterations exceeded'\u001b[0m\u001b[0;34m)\u001b[0m\u001b[0;34m\u001b[0m\u001b[0;34m\u001b[0m\u001b[0m\n\u001b[0m",
      "\u001b[0;31mValueError\u001b[0m: Max iterations exceeded"
     ]
    }
   ],
   "source": [
    "p_n = newton(5, f, df, tol=eps)\n",
    "print('Root @ x=%.4f meters' % p_n)"
   ]
  },
  {
   "cell_type": "markdown",
   "metadata": {},
   "source": [
    "Using our initial guess as $x_0=\\bar{x}=5$ we can see in the above error output that the maximum number of iterations are exceeded, and that there are some issues with the numerical values. This is because the derivative at the starting location is essentially zero. Even if the guess had been slightly less than 5, if the derivative is too small then the iterates explode and break the method.\n",
    "\n",
    "Using both Bisection and Newton's method we determined that the water main should be buried at least $\\boxed{0.6746\\;\\text{meters}}$ beneath the surface of the ground.\n",
    "\n",
    "My preferred method is Bisection. This is because it works just as well as Newtons in terms of speed and accuracy (in practice here), doesn't require computing a derivative, and won't break as long as you provide mildly resonable guesses."
   ]
  },
  {
   "cell_type": "markdown",
   "metadata": {},
   "source": [
    "## Problem 3\n",
    "Here we will consider applying Newton's method to a real cubic polynomial."
   ]
  },
  {
   "cell_type": "markdown",
   "metadata": {},
   "source": [
    "### a).\n",
    "We will assume that the polynomial has three distinct roots ($x=\\alpha,\\; x=\\beta,\\;x=\\gamma$) and show the guess $x_0=\\frac{1}{2}(\\alpha+\\beta)$ will converge to $x=\\gamma$ in a single step."
   ]
  },
  {
   "cell_type": "markdown",
   "metadata": {},
   "source": [
    "Because our function is assumed to have these three roots we can write $f(x) = (x-\\alpha)(x-\\beta)(x-\\gamma)$. The Newton iteration equation requires us to find the derivative of the function, so we will start there.\n",
    "\n",
    "$$\n",
    "\\begin{align}\n",
    "    &f'(x) = [(x-\\alpha)+(x-\\beta)](x-\\gamma)+(x-\\alpha)(x-\\beta)\\\\\n",
    "    &=(2x-\\alpha-\\beta)(x-\\gamma)+(x-\\alpha)(x-\\beta)\n",
    "\\end{align}\n",
    "$$"
   ]
  },
  {
   "cell_type": "markdown",
   "metadata": {},
   "source": [
    "We are trying to show that $\\gamma = x_0 - \\frac{f(x_0)}{f'(x_0)}$, so we will plug in and see what happens.\n",
    "\n",
    "$$\n",
    "\\begin{align}\n",
    "    &f(x_0) = \\frac{1}{2}(\\beta-\\alpha)\\frac{1}{2}(\\alpha-\\beta)\\frac{1}{2}(\\alpha+\\beta-\\gamma)\\\\\n",
    "    &=\\frac{-1}{8}(\\alpha-\\beta)^2(\\alpha+\\beta-2\\gamma)\\\\\n",
    "    &~\\\\\n",
    "    &f'(x_0) = 0 - \\frac{1}{4}(\\alpha-\\beta)^2\n",
    "\\end{align}\n",
    "$$"
   ]
  },
  {
   "cell_type": "markdown",
   "metadata": {},
   "source": [
    "Putting this all together:\n",
    "\n",
    "$$ \\frac{1}{2}(\\alpha+\\beta)-\\frac{\\frac{-1}{8}(\\alpha-\\beta)^2(\\alpha+\\beta-2\\gamma)}{- \\frac{1}{4}(\\alpha-\\beta)^2} = \\frac{1}{2}(\\alpha+\\beta) - \\frac{1}{2}(\\alpha+\\beta-2\\gamma) = \\gamma $$"
   ]
  },
  {
   "cell_type": "markdown",
   "metadata": {},
   "source": [
    "Thus we see that this initial guess will yield the root $\\gamma$ in a single step."
   ]
  },
  {
   "cell_type": "markdown",
   "metadata": {},
   "source": [
    "### b).\n",
    "If we assume that two roots coincide (i.e. are equal) with the third distinct, then we can show that there is exactly one starting guess that is not the root iteself for which Newton's method will fail."
   ]
  },
  {
   "cell_type": "markdown",
   "metadata": {},
   "source": [
    "Let us plot an example of this just to get an idea of what we are looking at. We will use the function $f(x)=(x-2)^2(x-5)$."
   ]
  },
  {
   "cell_type": "code",
   "execution_count": 10,
   "metadata": {},
   "outputs": [
    {
     "data": {
      "image/png": "[encoded data removed]",
      "text/plain": [
       "<Figure size 720x720 with 1 Axes>"
      ]
     },
     "metadata": {},
     "output_type": "display_data"
    }
   ],
   "source": [
    "x = np.arange(-1,6+0.001,0.001)\n",
    "fig, ax = plt.subplots(1,1,figsize=(10,10))\n",
    "ax.plot(x, (x-5)*(x-2)**2);"
   ]
  },
  {
   "cell_type": "markdown",
   "metadata": {},
   "source": [
    "Any cubic polynomial will have a shape roughly similar to this. Maybe the function will be odd in the opposite manner (i.e. positive at $-\\infty$), or have higher peaks and steeper valleys, but the general shape remains. This eliminates any risk of the function shooting off to infinity. It may take a while for some guesses to converge, but in the end they will. Our only problems will occur when the derivative is zero at an iterate. This can happen at the double root and at one other place. Specifically, if the double root is $x=r$ and the other root is $x=\\alpha$, then $f'(\\frac{2\\alpha+r}{3})=0$. "
   ]
  },
  {
   "cell_type": "markdown",
   "metadata": {},
   "source": [
    "The important thing to note is that the only way to get to this point (which we will call $x_0$) is by having it as your initial guess. If the initial guess is anywhere else then no iteration will ever result in $x_0$ where the derivative is zero, and thus the method will converge to a root. Geometrically this makes sense because the only place on a cubic polynomial where the tangent line would intersect the x-axis at $x_0$ is near the other peak. In this case the other peak is also a root and so this cannot happen because the peak is not above the x-axis.\n",
    "\n",
    "Looking at our example above, we can see that no matter where we draw a tangent line, it will not intersect the x-axis where the derivative is zero.\n",
    "\n",
    "Thus we can conclude that the only other initial guess that results in Newton's method failing is the point exactly where the derivative is zero (and not a root)."
   ]
  },
  {
   "cell_type": "markdown",
   "metadata": {},
   "source": [
    "### c).\n",
    "Extending part b). we can show why there are infinitely many starting guess for which Newton's method will fail when all three roots are distinct.\n",
    "\n",
    "Again we will plot an example function ($f(x)=(x-2)(x-5)(x+1)$) to help aid our understanding."
   ]
  },
  {
   "cell_type": "code",
   "execution_count": 17,
   "metadata": {},
   "outputs": [
    {
     "data": {
      "image/png": "[encoded data removed]",
      "text/plain": [
       "<Figure size 720x720 with 1 Axes>"
      ]
     },
     "metadata": {},
     "output_type": "display_data"
    }
   ],
   "source": [
    "x = np.arange(-1,6+0.001,0.001)\n",
    "fig, ax = plt.subplots(1,1,figsize=(10,10))\n",
    "ax.plot(x, (x-5)*(x-3)*(x+1));"
   ]
  },
  {
   "cell_type": "markdown",
   "metadata": {},
   "source": [
    "In the previous part where one of the roots had multiplicity of two we concluded that there was no way for Newton to fail unless you started at a point where the derivative was zero. However, in this case where all of the roots are distinct, it is now possible to reach a point where the derivative is zero from a perfectly acceptable previous point. This is because, geometrically, a tangent line from one of the peaks (around where the derivative is zero) can now intersect the x-axis where the other peak is exactly. Essentially, in one iteration you can go from near one peak to the x location where the derivative is zero on the adjacent peak. Furthermore, there are infinitely many ways to get here even if some of the iterations take longer. Because one of the peaks is no longer also a root it allows for iterations to reach these places of a zero derivative and thus Newton can fail for infinitely many starting points."
   ]
  },
  {
   "cell_type": "markdown",
   "metadata": {},
   "source": [
    "## Problem 4\n",
    "We will assume $f(x)=(x-x_*)^pq(x)$ with $p$ a positive integer, $q$ twice continuously differentiable, and $q(x_*)\\neq0$. We note that $f'(x_*)=0$ and we will use the following notation: $x_k,\\;f_k=f(x_k),\\;e_k=|x_*-x_k|$."
   ]
  },
  {
   "cell_type": "markdown",
   "metadata": {},
   "source": [
    "### a).\n",
    "We will show that Newton's method converges linearly for $f(x)$."
   ]
  },
  {
   "cell_type": "markdown",
   "metadata": {},
   "source": [
    "We will begin by finding the derivative of our function $f(x)$.\n",
    "\n",
    "$$ f'(x) = p(x-x_*)^{p-1}q(x) + (x-x_*)^pq'(x) $$\n",
    "\n",
    "Plugging this and the function into the Newton iteration equation we have the following:\n",
    "\n",
    "$$\n",
    "\\begin{align}\n",
    "    &x_{n+1} = x_n - \\frac{(x_n-x_*)^pq(x_n)}{p(x_n-x_*)^{p-1}q(x_n) + (x_n-x_*)^pq'(x_n)}\\\\\n",
    "    &~\\\\\n",
    "    &\\text{Subtracting the root }\\implies x_{n+1}-x_* = x_n-x_* - \\frac{(x_n-x_*)^pq(x_n)}{p(x_n-x_*)^{p-1}q(x_n) + (x_n-x_*)^pq'(x_n)}\\\\\n",
    "    &~\\\\\n",
    "    &\\implies x_{n+1}-x_* = x_n-x_*(1-\\frac{(x_n-x_*)^{p-1}q(x_n)}{p(x_n-x_*)^{p-1}q(x_n) + (x_n-x_*)^pq'(x_n)})\\\\\n",
    "    &~\\\\\n",
    "    &\\implies \\frac{x_{n+1}-x_*}{x_n-x_*} = \\frac{(p-1)q(x_n)+(x_n-x_*)q'(x_n)}{pq(x_n)+(x_n-x_*)q'(x_n)}\\\\\n",
    "    &~\\\\\n",
    "    &\\text{Apply absolute values, take the limit, and assume the sequence converges...}\\\\\n",
    "    &\\lim_{n\\to\\infty} \\frac{|x_{n+1}-x_*|}{|x_n-x_*|} = \\boxed{\\lim_{n\\to\\infty} \\frac{e_{k+1}}{e_k} = \\frac{p-1}{p}}\n",
    "\\end{align}\n",
    "$$\n",
    "\n",
    "Where the last lines follows because $x_n\\to x_*$ by assumption. We can see that we have linear convergence in the case where we have a higher multiplicity of roots,"
   ]
  },
  {
   "cell_type": "markdown",
   "metadata": {},
   "source": [
    "### b).\n",
    "The modified Newton's method with a rate parameter is given as follows:\n",
    "\n",
    "$$ x_{k+1} = x_k - p\\frac{f_k}{f'_k} $$\n",
    "\n",
    "We will show that if $x_k\\to x_*$ then the rate of convergence is quadratic (i.e. $|e_{k+1}|\\leq C|e_k|^2$ where $C$ is constant)."
   ]
  },
  {
   "cell_type": "markdown",
   "metadata": {},
   "source": [
    "The process is quite similar to that shown above just with an extra multiple of p somewhere inside. Specifically, instead of the $(p-1)$ term we see in the line right before we take the limit, we will have a $(p-p)=0$ term. This gives us the following:\n",
    "\n",
    "$$\n",
    "\\begin{align}\n",
    "    &\\frac{x_{n+1}-x_*}{x_n-x_*} = \\frac{(x_n-x_*)q'(x_n)}{pq(x_n)+(x_n-x_*)q'(x_n)}\\\\\n",
    "    &~\\\\\n",
    "    &\\implies \\frac{x_{n+1}-x_*}{(x_n-x_*)^2} = \\frac{q'(x_n)}{pq(x_n)+(x_n-x_*)q'(x_n)}\\\\\n",
    "    &\\text{Apply absolute values, take the limit, and assume the sequence converges...}\\\\\n",
    "    &\\lim_{n\\to\\infty} \\frac{|x_{n+1}-x_*|}{|x_n-x_*|^2} = \\boxed{\\lim_{n\\to\\infty} \\frac{e_{k+1}}{e_k^2} = \\frac{q'(x_*)}{q(x_*)p}}\n",
    "\\end{align}\n",
    "$$"
   ]
  },
  {
   "cell_type": "markdown",
   "metadata": {},
   "source": [
    "Again, the last line follows because we are assuming that $x_n\\to x_*$. Further, we may note that by assumption $q(x_*)\\neq0$ and $q'(x_*)$ exists. Thus we can let $C=\\frac{q'(x_*)}{q(x_*)p}$, and we have shown that the rate of convergence is quadratic."
   ]
  },
  {
   "cell_type": "markdown",
   "metadata": {},
   "source": [
    "### c).\n",
    "Note the code for Newton's and Modified Newton's method are given at the beginning of this work.\n",
    "\n",
    "We will apply these methods to the following function:\n",
    "\n",
    "$$ f(x) = (x-1)^5e^x $$"
   ]
  },
  {
   "cell_type": "code",
   "execution_count": 10,
   "metadata": {},
   "outputs": [],
   "source": [
    "x0 = 0 #Initial guess\n",
    "tol = 1E-15 #Relative error tolerance\n",
    "\n",
    "def f(x):\n",
    "    return ((x-1)**5)*np.exp(x)\n",
    "\n",
    "def df(x):\n",
    "    return (x+4)*np.exp(x)*(x-1)**4"
   ]
  },
  {
   "cell_type": "code",
   "execution_count": 11,
   "metadata": {},
   "outputs": [],
   "source": [
    "r1, _, i1 = newton(x0, f, df, tol=tol, tab=True, decimal=True)\n",
    "i1 = np.array(i1, dtype='float64')\n",
    "\n",
    "r2, _, i2 = newton(x0, f, df, p=5, tol=tol, tab=True, decimal=True)\n",
    "i2 = np.array(i2, dtype='float64')"
   ]
  },
  {
   "cell_type": "code",
   "execution_count": 12,
   "metadata": {},
   "outputs": [],
   "source": [
    "pd.options.display.float_format = '{:.15E}'.format\n",
    "\n",
    "df_1 = pd.DataFrame({'Iteration': [i for i in range(len(i1))],\n",
    "                     'Iterate': i1,\n",
    "                     'Error': np.abs(i1-1)}).set_index('Iteration')\n",
    "\n",
    "df_2 = pd.DataFrame({'Iteration': [i for i in range(len(i2))],\n",
    "                     'Iterate': i2,\n",
    "                     'Error': np.abs(i2-1)}).set_index('Iteration')"
   ]
  },
  {
   "cell_type": "markdown",
   "metadata": {},
   "source": [
    "With traditional Newton's method."
   ]
  },
  {
   "cell_type": "code",
   "execution_count": 13,
   "metadata": {},
   "outputs": [
    {
     "data": {
      "text/html": [
       "<div>\n",
       "<style scoped>\n",
       "    .dataframe tbody tr th:only-of-type {\n",
       "        vertical-align: middle;\n",
       "    }\n",
       "\n",
       "    .dataframe tbody tr th {\n",
       "        vertical-align: top;\n",
       "    }\n",
       "\n",
       "    .dataframe thead th {\n",
       "        text-align: right;\n",
       "    }\n",
       "</style>\n",
       "<table border=\"1\" class=\"dataframe\">\n",
       "  <thead>\n",
       "    <tr style=\"text-align: right;\">\n",
       "      <th></th>\n",
       "      <th>Iterate</th>\n",
       "      <th>Error</th>\n",
       "    </tr>\n",
       "    <tr>\n",
       "      <th>Iteration</th>\n",
       "      <th></th>\n",
       "      <th></th>\n",
       "    </tr>\n",
       "  </thead>\n",
       "  <tbody>\n",
       "    <tr>\n",
       "      <th>0</th>\n",
       "      <td>0.000000000000000E+00</td>\n",
       "      <td>1.000000000000000E+00</td>\n",
       "    </tr>\n",
       "    <tr>\n",
       "      <th>5</th>\n",
       "      <td>7.279472249514199E-01</td>\n",
       "      <td>2.720527750485801E-01</td>\n",
       "    </tr>\n",
       "    <tr>\n",
       "      <th>10</th>\n",
       "      <td>9.149462812517818E-01</td>\n",
       "      <td>8.505371874821821E-02</td>\n",
       "    </tr>\n",
       "    <tr>\n",
       "      <th>15</th>\n",
       "      <td>9.725285627331187E-01</td>\n",
       "      <td>2.747143726688128E-02</td>\n",
       "    </tr>\n",
       "    <tr>\n",
       "      <th>20</th>\n",
       "      <td>9.910397429641807E-01</td>\n",
       "      <td>8.960257035819263E-03</td>\n",
       "    </tr>\n",
       "    <tr>\n",
       "      <th>25</th>\n",
       "      <td>9.970683254984478E-01</td>\n",
       "      <td>2.931674501552184E-03</td>\n",
       "    </tr>\n",
       "    <tr>\n",
       "      <th>30</th>\n",
       "      <td>9.990398222884037E-01</td>\n",
       "      <td>9.601777115962884E-04</td>\n",
       "    </tr>\n",
       "    <tr>\n",
       "      <th>35</th>\n",
       "      <td>9.996854197455141E-01</td>\n",
       "      <td>3.145802544859411E-04</td>\n",
       "    </tr>\n",
       "    <tr>\n",
       "      <th>40</th>\n",
       "      <td>9.998969237926445E-01</td>\n",
       "      <td>1.030762073555014E-04</td>\n",
       "    </tr>\n",
       "    <tr>\n",
       "      <th>45</th>\n",
       "      <td>9.999662245735458E-01</td>\n",
       "      <td>3.377542645421894E-05</td>\n",
       "    </tr>\n",
       "    <tr>\n",
       "      <th>50</th>\n",
       "      <td>9.999889325310896E-01</td>\n",
       "      <td>1.106746891044175E-05</td>\n",
       "    </tr>\n",
       "    <tr>\n",
       "      <th>55</th>\n",
       "      <td>9.999963734185336E-01</td>\n",
       "      <td>3.626581466353862E-06</td>\n",
       "    </tr>\n",
       "    <tr>\n",
       "      <th>60</th>\n",
       "      <td>9.999988116425095E-01</td>\n",
       "      <td>1.188357490522485E-06</td>\n",
       "    </tr>\n",
       "    <tr>\n",
       "      <th>65</th>\n",
       "      <td>9.999996105990953E-01</td>\n",
       "      <td>3.894009047433755E-07</td>\n",
       "    </tr>\n",
       "    <tr>\n",
       "      <th>70</th>\n",
       "      <td>9.999998724011199E-01</td>\n",
       "      <td>1.275988801285877E-07</td>\n",
       "    </tr>\n",
       "    <tr>\n",
       "      <th>75</th>\n",
       "      <td>9.999999581883998E-01</td>\n",
       "      <td>4.181160018212893E-08</td>\n",
       "    </tr>\n",
       "    <tr>\n",
       "      <th>80</th>\n",
       "      <td>9.999999862991750E-01</td>\n",
       "      <td>1.370082503004966E-08</td>\n",
       "    </tr>\n",
       "    <tr>\n",
       "      <th>85</th>\n",
       "      <td>9.999999955105137E-01</td>\n",
       "      <td>4.489486338243864E-09</td>\n",
       "    </tr>\n",
       "    <tr>\n",
       "      <th>90</th>\n",
       "      <td>9.999999985288851E-01</td>\n",
       "      <td>1.471114896567371E-09</td>\n",
       "    </tr>\n",
       "    <tr>\n",
       "      <th>95</th>\n",
       "      <td>9.999999995179450E-01</td>\n",
       "      <td>4.820549515116568E-10</td>\n",
       "    </tr>\n",
       "    <tr>\n",
       "      <th>100</th>\n",
       "      <td>9.999999998420402E-01</td>\n",
       "      <td>1.579597563861057E-10</td>\n",
       "    </tr>\n",
       "    <tr>\n",
       "      <th>105</th>\n",
       "      <td>9.999999999482397E-01</td>\n",
       "      <td>5.176026274256174E-11</td>\n",
       "    </tr>\n",
       "    <tr>\n",
       "      <th>110</th>\n",
       "      <td>9.999999999830392E-01</td>\n",
       "      <td>1.696076612489605E-11</td>\n",
       "    </tr>\n",
       "    <tr>\n",
       "      <th>115</th>\n",
       "      <td>9.999999999944423E-01</td>\n",
       "      <td>5.557665438971071E-12</td>\n",
       "    </tr>\n",
       "    <tr>\n",
       "      <th>120</th>\n",
       "      <td>9.999999999981789E-01</td>\n",
       "      <td>1.821098827292644E-12</td>\n",
       "    </tr>\n",
       "    <tr>\n",
       "      <th>125</th>\n",
       "      <td>9.999999999994033E-01</td>\n",
       "      <td>5.967448757360216E-13</td>\n",
       "    </tr>\n",
       "    <tr>\n",
       "      <th>130</th>\n",
       "      <td>9.999999999998045E-01</td>\n",
       "      <td>1.955102746364901E-13</td>\n",
       "    </tr>\n",
       "    <tr>\n",
       "      <th>135</th>\n",
       "      <td>9.999999999999359E-01</td>\n",
       "      <td>6.405986852087153E-14</td>\n",
       "    </tr>\n",
       "    <tr>\n",
       "      <th>140</th>\n",
       "      <td>9.999999999999790E-01</td>\n",
       "      <td>2.098321516541546E-14</td>\n",
       "    </tr>\n",
       "    <tr>\n",
       "      <th>145</th>\n",
       "      <td>9.999999999999931E-01</td>\n",
       "      <td>6.883382752675971E-15</td>\n",
       "    </tr>\n",
       "    <tr>\n",
       "      <th>147</th>\n",
       "      <td>9.999999999999956E-01</td>\n",
       "      <td>4.440892098500626E-15</td>\n",
       "    </tr>\n",
       "    <tr>\n",
       "      <th>148</th>\n",
       "      <td>9.999999999999964E-01</td>\n",
       "      <td>3.552713678800501E-15</td>\n",
       "    </tr>\n",
       "  </tbody>\n",
       "</table>\n",
       "</div>"
      ],
      "text/plain": [
       "                        Iterate                 Error\n",
       "Iteration                                            \n",
       "0         0.000000000000000E+00 1.000000000000000E+00\n",
       "5         7.279472249514199E-01 2.720527750485801E-01\n",
       "10        9.149462812517818E-01 8.505371874821821E-02\n",
       "15        9.725285627331187E-01 2.747143726688128E-02\n",
       "20        9.910397429641807E-01 8.960257035819263E-03\n",
       "25        9.970683254984478E-01 2.931674501552184E-03\n",
       "30        9.990398222884037E-01 9.601777115962884E-04\n",
       "35        9.996854197455141E-01 3.145802544859411E-04\n",
       "40        9.998969237926445E-01 1.030762073555014E-04\n",
       "45        9.999662245735458E-01 3.377542645421894E-05\n",
       "50        9.999889325310896E-01 1.106746891044175E-05\n",
       "55        9.999963734185336E-01 3.626581466353862E-06\n",
       "60        9.999988116425095E-01 1.188357490522485E-06\n",
       "65        9.999996105990953E-01 3.894009047433755E-07\n",
       "70        9.999998724011199E-01 1.275988801285877E-07\n",
       "75        9.999999581883998E-01 4.181160018212893E-08\n",
       "80        9.999999862991750E-01 1.370082503004966E-08\n",
       "85        9.999999955105137E-01 4.489486338243864E-09\n",
       "90        9.999999985288851E-01 1.471114896567371E-09\n",
       "95        9.999999995179450E-01 4.820549515116568E-10\n",
       "100       9.999999998420402E-01 1.579597563861057E-10\n",
       "105       9.999999999482397E-01 5.176026274256174E-11\n",
       "110       9.999999999830392E-01 1.696076612489605E-11\n",
       "115       9.999999999944423E-01 5.557665438971071E-12\n",
       "120       9.999999999981789E-01 1.821098827292644E-12\n",
       "125       9.999999999994033E-01 5.967448757360216E-13\n",
       "130       9.999999999998045E-01 1.955102746364901E-13\n",
       "135       9.999999999999359E-01 6.405986852087153E-14\n",
       "140       9.999999999999790E-01 2.098321516541546E-14\n",
       "145       9.999999999999931E-01 6.883382752675971E-15\n",
       "147       9.999999999999956E-01 4.440892098500626E-15\n",
       "148       9.999999999999964E-01 3.552713678800501E-15"
      ]
     },
     "metadata": {},
     "output_type": "display_data"
    }
   ],
   "source": [
    "display(pd.concat([df_1.iloc[::5,:], df_1.iloc[-2:,:]]))"
   ]
  },
  {
   "cell_type": "markdown",
   "metadata": {},
   "source": [
    "With Modified Newtons"
   ]
  },
  {
   "cell_type": "code",
   "execution_count": 14,
   "metadata": {},
   "outputs": [
    {
     "data": {
      "text/html": [
       "<div>\n",
       "<style scoped>\n",
       "    .dataframe tbody tr th:only-of-type {\n",
       "        vertical-align: middle;\n",
       "    }\n",
       "\n",
       "    .dataframe tbody tr th {\n",
       "        vertical-align: top;\n",
       "    }\n",
       "\n",
       "    .dataframe thead th {\n",
       "        text-align: right;\n",
       "    }\n",
       "</style>\n",
       "<table border=\"1\" class=\"dataframe\">\n",
       "  <thead>\n",
       "    <tr style=\"text-align: right;\">\n",
       "      <th></th>\n",
       "      <th>Iterate</th>\n",
       "      <th>Error</th>\n",
       "    </tr>\n",
       "    <tr>\n",
       "      <th>Iteration</th>\n",
       "      <th></th>\n",
       "      <th></th>\n",
       "    </tr>\n",
       "  </thead>\n",
       "  <tbody>\n",
       "    <tr>\n",
       "      <th>0</th>\n",
       "      <td>0.000000000000000E+00</td>\n",
       "      <td>1.000000000000000E+00</td>\n",
       "    </tr>\n",
       "    <tr>\n",
       "      <th>1</th>\n",
       "      <td>1.250000000000000E+00</td>\n",
       "      <td>2.500000000000000E-01</td>\n",
       "    </tr>\n",
       "    <tr>\n",
       "      <th>2</th>\n",
       "      <td>1.011904761904762E+00</td>\n",
       "      <td>1.190476190476186E-02</td>\n",
       "    </tr>\n",
       "    <tr>\n",
       "      <th>3</th>\n",
       "      <td>1.000028277344192E+00</td>\n",
       "      <td>2.827734419175165E-05</td>\n",
       "    </tr>\n",
       "    <tr>\n",
       "      <th>4</th>\n",
       "      <td>1.000000000159921E+00</td>\n",
       "      <td>1.599207433145011E-10</td>\n",
       "    </tr>\n",
       "    <tr>\n",
       "      <th>5</th>\n",
       "      <td>1.000000000000000E+00</td>\n",
       "      <td>0.000000000000000E+00</td>\n",
       "    </tr>\n",
       "    <tr>\n",
       "      <th>6</th>\n",
       "      <td>1.000000000000000E+00</td>\n",
       "      <td>0.000000000000000E+00</td>\n",
       "    </tr>\n",
       "  </tbody>\n",
       "</table>\n",
       "</div>"
      ],
      "text/plain": [
       "                        Iterate                 Error\n",
       "Iteration                                            \n",
       "0         0.000000000000000E+00 1.000000000000000E+00\n",
       "1         1.250000000000000E+00 2.500000000000000E-01\n",
       "2         1.011904761904762E+00 1.190476190476186E-02\n",
       "3         1.000028277344192E+00 2.827734419175165E-05\n",
       "4         1.000000000159921E+00 1.599207433145011E-10\n",
       "5         1.000000000000000E+00 0.000000000000000E+00\n",
       "6         1.000000000000000E+00 0.000000000000000E+00"
      ]
     },
     "metadata": {},
     "output_type": "display_data"
    }
   ],
   "source": [
    "display(df_2)"
   ]
  },
  {
   "cell_type": "code",
   "execution_count": 18,
   "metadata": {},
   "outputs": [
    {
     "data": {
      "image/png": "[encoded data removed]",
      "text/plain": [
       "<Figure size 720x720 with 1 Axes>"
      ]
     },
     "metadata": {},
     "output_type": "display_data"
    }
   ],
   "source": [
    "fig, ax = plt.subplots(1,1, figsize=(10,10))\n",
    "\n",
    "ax.scatter(df_1.index, df_1.Error)\n",
    "ax.scatter(df_2.index, df_2.Error)\n",
    "ax.set_title('Error Per Iteration')\n",
    "ax.set_xlabel('Iteration #')\n",
    "ax.set_ylabel('Error')\n",
    "ax.legend(['Newton', 'Modified Newton']);"
   ]
  },
  {
   "cell_type": "markdown",
   "metadata": {},
   "source": [
    "In the previous part of this problem we showed that without the rate parameter in the Modfied Newton's method the convergence would be linear due to the multiplicity of the root. We can clearly see that in action here, both in the plot above and in the tables. For the standard Newton's method it took almost 150 iterations to converge on the root to our desired accuracy. The modified method achieved this same goal in only 6 iterations. This is what we would expect given our theory development (that the modified would be faster), although we do see some variation in the specifics. In particular we see that the standard Newton's method is performing potentially better than expected, but still poorly."
   ]
  },
  {
   "cell_type": "markdown",
   "metadata": {},
   "source": [
    "## Problem 5\n",
    "Letting $x_0,\\;x_1$ be two succesive points from a secant iteration scheme applied to the equation $f(x)=0$ with $f_0=f(x_0),\\;f_1=f(x_1)$. We will show that the order of the points (i.e. which one is the most \"recent\") has no effect on value of the next point."
   ]
  },
  {
   "cell_type": "markdown",
   "metadata": {},
   "source": [
    "In the Secant method the recurrence equation is as follows:\n",
    "\n",
    "$$ x_{n+1} = x_n - \\frac{f(x_n)(x_n-x_{n-1})}{f(x_n)-f(x_{n-1})} $$"
   ]
  },
  {
   "cell_type": "markdown",
   "metadata": {},
   "source": [
    "We will show that swapping $x_n$ and $x_{n-1}$ has no effect on $x_{n+1}$.\n",
    "\n",
    "$$\n",
    "\\begin{align}\n",
    "    &\\text{Let } y_1 = x_1 - \\frac{f_1(x_1-x_0)}{f_1-f_0}\\\\\n",
    "    &\\text{Let } y_0 = x_0 - \\frac{f_0(x_0-x_1)}{f_0-f_1}\\\\\n",
    "    &y_1-y_0 = x_1-x_0 - \\frac{f_1(x_1-x_0)}{f_1-f_0} + \\frac{f_0(x_0-x_1)}{f_0-f_1}\\\\\n",
    "    &\\implies y_1-y_0 = x_1-x_0 + \\frac{(f_0-f_1)(x_0-x_1)}{f_0-f_1} = 0\n",
    "\\end{align}\n",
    "$$"
   ]
  },
  {
   "cell_type": "markdown",
   "metadata": {},
   "source": [
    "Thus we conclude that $y_0=y_1$ and are the same point no matter which of the previous points we consider the most recent."
   ]
  }
 ],
 "metadata": {
  "kernelspec": {
   "display_name": "Python 3",
   "language": "python",
   "name": "python3"
  },
  "language_info": {
   "codemirror_mode": {
    "name": "ipython",
    "version": 3
   },
   "file_extension": ".py",
   "mimetype": "text/x-python",
   "name": "python",
   "nbconvert_exporter": "python",
   "pygments_lexer": "ipython3",
   "version": "3.7.6"
  }
 },
 "nbformat": 4,
 "nbformat_minor": 4
}
