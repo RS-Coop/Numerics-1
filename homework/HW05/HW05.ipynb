{
 "cells": [
  {
   "cell_type": "markdown",
   "metadata": {},
   "source": [
    "# Numerics 1: Homework 05"
   ]
  },
  {
   "cell_type": "markdown",
   "metadata": {
    "heading_collapsed": true
   },
   "source": [
    "## Setup"
   ]
  },
  {
   "cell_type": "code",
   "execution_count": 59,
   "metadata": {
    "hidden": true
   },
   "outputs": [],
   "source": [
    "import numpy as np\n",
    "import pandas as pd\n",
    "import matplotlib.pyplot as plt\n",
    "from IPython.display import display\n",
    "import seaborn as sns\n",
    "sns.set()"
   ]
  },
  {
   "cell_type": "markdown",
   "metadata": {},
   "source": [
    "## Problem 1"
   ]
  },
  {
   "cell_type": "markdown",
   "metadata": {},
   "source": [
    "We will consider the system $\\mathbf{Ax}=\\mathbf{b}$, with $\\mathbf{A}$ and $\\mathbf{b}$ defined in the code below, and we will examine various stationary iteration schemes in relation to this problem."
   ]
  },
  {
   "cell_type": "code",
   "execution_count": 60,
   "metadata": {},
   "outputs": [
    {
     "name": "stdout",
     "output_type": "stream",
     "text": [
      "(6, 6)\n",
      "(6, 1)\n"
     ]
    }
   ],
   "source": [
    "A = np.array([[4,-1,0,-1,0,0],\n",
    "            [-1,4,-1,0,-1,0],\n",
    "            [0,-1,4,-1,0,-1],\n",
    "            [-1,0,-1,4,-1,0],\n",
    "            [0,-1,0,-1,4,-1],\n",
    "            [0,0,-1,0,-1,4]])\n",
    "\n",
    "b = np.array([2,1,2,2,1,2]).reshape((6,1))\n",
    "\n",
    "print(A.shape)\n",
    "print(b.shape)"
   ]
  },
  {
   "cell_type": "markdown",
   "metadata": {},
   "source": [
    "All of the following stationary iterations will be using $\\epsilon=1E-7$, and some combination of the standard splitting which we compute below."
   ]
  },
  {
   "cell_type": "code",
   "execution_count": 61,
   "metadata": {},
   "outputs": [],
   "source": [
    "eps = 1E-7 #Tolerance\n",
    "\n",
    "L = np.tril(A, -1) #Lower triangular\n",
    "U = np.triu(A, 1) #Upper triangular\n",
    "\n",
    "D = np.tril(np.triu(A)) #Diagonal"
   ]
  },
  {
   "cell_type": "markdown",
   "metadata": {},
   "source": [
    "### a).\n",
    "We use Gauss-Jacobi to approximate the solution. Gauss-Jacobi is given by the following iteration:\n",
    "\n",
    "$$ \\mathbf{x}_{k+1} = -\\mathbf{D}^{-1}(\\mathbf{L}+\\mathbf{U})\\mathbf{x}_k + \\mathbf{D}^{-1}\\mathbf{b} $$"
   ]
  },
  {
   "cell_type": "code",
   "execution_count": 62,
   "metadata": {},
   "outputs": [],
   "source": [
    "err = np.inf #Initial error\n",
    "x_0 = np.zeros(b.shape) #Initial solution\n",
    "\n",
    "#Pre-compute static matrices\n",
    "D_inv = np.linalg.inv(D)\n",
    "D_invL_U = D_inv@(L+U)\n",
    "D_invb = D_inv@b\n",
    "\n",
    "numI = 0 #Number of iterations\n",
    "\n",
    "while(err >= eps):\n",
    "    x_k = -D_invL_U@x_0 + D_invb\n",
    "    \n",
    "    #Compute error\n",
    "    err = np.linalg.norm(x_k-x_0, ord=np.inf)/np.linalg.norm(x_k, ord=np.inf) #Using 2-norm\n",
    "    \n",
    "    #Count iterations\n",
    "    numI += 1\n",
    "    \n",
    "    x_0 = x_k"
   ]
  },
  {
   "cell_type": "code",
   "execution_count": 63,
   "metadata": {},
   "outputs": [
    {
     "name": "stdout",
     "output_type": "stream",
     "text": [
      "Solution in 41 iterations:\n",
      "\n",
      " x = [[1.1666665 ]\n",
      " [1.20833311]\n",
      " [1.45833311]\n",
      " [1.45833311]\n",
      " [1.20833311]\n",
      " [1.1666665 ]]\n",
      "\n",
      "Final Error: 0.0000006\n"
     ]
    }
   ],
   "source": [
    "print('Solution in %s iterations:\\n\\n x =' % numI, end=' ')\n",
    "print(x_0, end='\\n\\n')\n",
    "print('Final Error: %.7f' % np.linalg.norm(A@x_0-b))"
   ]
  },
  {
   "cell_type": "markdown",
   "metadata": {},
   "source": [
    "### b).\n",
    "We use Gauss-Siedel to approximate the solution. Gauss-Seidel is given by the following iteration:\n",
    "\n",
    "$$ \\mathbf{x}_{k+1} = -(\\mathbf{D}+\\mathbf{L})^{-1}\\mathbf{U}\\mathbf{x}_k + (\\mathbf{D}+\\mathbf{L})^{-1}\\mathbf{b} $$"
   ]
  },
  {
   "cell_type": "code",
   "execution_count": 64,
   "metadata": {},
   "outputs": [],
   "source": [
    "err = np.inf #Initial error\n",
    "x_0 = np.zeros(b.shape) #Initial solution\n",
    "\n",
    "#Pre-compute static matrices\n",
    "D_L_inv = np.linalg.inv(D+L)\n",
    "D_L_invU = D_L_inv@U\n",
    "D_L_invb = D_L_inv@b\n",
    "\n",
    "numI = 0\n",
    "\n",
    "while(err >= eps):\n",
    "    x_k = -D_L_invU@x_0 + D_L_invb\n",
    "    \n",
    "    #Compute error\n",
    "    err = np.linalg.norm(x_k-x_0, ord=np.inf)/np.linalg.norm(x_k, ord=np.inf) #Using 2-norm\n",
    "    \n",
    "    #Count iterations\n",
    "    numI += 1\n",
    "    \n",
    "    x_0 = x_k"
   ]
  },
  {
   "cell_type": "code",
   "execution_count": 65,
   "metadata": {},
   "outputs": [
    {
     "name": "stdout",
     "output_type": "stream",
     "text": [
      "Solution in 23 iterations:\n",
      "\n",
      " x = [[1.16666658]\n",
      " [1.20833324]\n",
      " [1.45833325]\n",
      " [1.45833326]\n",
      " [1.20833327]\n",
      " [1.16666663]]\n",
      "\n",
      "Final Error: 0.0000003\n"
     ]
    }
   ],
   "source": [
    "print('Solution in %s iterations:\\n\\n x =' % numI, end=' ')\n",
    "print(x_0, end='\\n\\n')\n",
    "print('Final Error: %.7f' % np.linalg.norm(A@x_0-b))"
   ]
  },
  {
   "cell_type": "markdown",
   "metadata": {},
   "source": [
    "### c).\n",
    "We use SOR with $\\omega=1.6735$ to approximate the solution. SOR is given by the following iteration.\n",
    "\n",
    "$$ \\mathbf{x}_{k+1} = (\\mathbf{D}-\\omega\\mathbf{L})^{-1}[(1-\\omega)\\mathbf{D}+\\omega\\mathbf{U}]\\mathbf{x}_k + \\omega(\\mathbf{D}-\\omega\\mathbf{L})^{-1}\\mathbf{b} $$"
   ]
  },
  {
   "cell_type": "code",
   "execution_count": 66,
   "metadata": {},
   "outputs": [],
   "source": [
    "#Only defining this one as a function so we can look at changing omega.\n",
    "def SOR(A, b, w):\n",
    "    err = np.inf #Initial error\n",
    "    x_0 = np.zeros(b.shape) #Initial solution\n",
    "\n",
    "    #Pre-compute static matrices\n",
    "    T = np.linalg.inv(D+w*L)\n",
    "    Z = T@((1-w)*D - w*U)\n",
    "    Tb = w*(T@b)\n",
    "\n",
    "    numI = 0 #Number of iterations\n",
    "\n",
    "    while(err >= eps):\n",
    "        x_k = Z@x_0 + Tb\n",
    "\n",
    "        #Compute error\n",
    "        err = np.linalg.norm(x_k-x_0, np.inf)/np.linalg.norm(x_k, np.inf) #Using 2-norm\n",
    "\n",
    "        #Count iterations\n",
    "        numI += 1\n",
    "\n",
    "        x_0 = x_k\n",
    "        \n",
    "    return x_0, numI\n",
    "        \n",
    "sol, numI = SOR(A, b, 1.6735)"
   ]
  },
  {
   "cell_type": "code",
   "execution_count": 67,
   "metadata": {},
   "outputs": [
    {
     "name": "stdout",
     "output_type": "stream",
     "text": [
      "Solution in 50 iterations:\n",
      "\n",
      " x = [[1.16666664]\n",
      " [1.20833334]\n",
      " [1.45833336]\n",
      " [1.45833327]\n",
      " [1.20833335]\n",
      " [1.16666666]]\n",
      "\n",
      "Final Error: 0.0000003\n"
     ]
    }
   ],
   "source": [
    "print('Solution in %s iterations:\\n\\n x =' % numI, end=' ')\n",
    "print(sol, end='\\n\\n')\n",
    "print('Final Error: %.7f' % np.linalg.norm(A@x_0-b))"
   ]
  },
  {
   "cell_type": "markdown",
   "metadata": {},
   "source": [
    "### d).\n",
    "We can see that $\\boxed{\\text{Gauss-Siedel}}$ has converged the fastest at 23 iterations -- SOR and Gauss-Jacobi taking 50 and 41 iterations respectively. One should not always expect this to be the case. In fact, this runs counter to what one might assume as SOR is just a sped up version of the same iteration. Although, the important thing to note is that it is sped up for some choices of $\\omega$. Thus we expect other choices of $\\omega$ to result in faster convergence for SOR compared to Gauss-Siedel. "
   ]
  },
  {
   "cell_type": "markdown",
   "metadata": {},
   "source": [
    "### e).\n",
    "Letting $c=||\\mathbf{B}||$ (from the standard stationary iteration) we look at the following error estimate.\n",
    "\n",
    "$$ ||\\mathbf{x}_{k+1}-\\mathbf{x}_k||\\leq\\frac{c}{1-c}||\\mathbf{x}_{k+1}-\\mathbf{x}_k|| $$"
   ]
  },
  {
   "cell_type": "markdown",
   "metadata": {},
   "source": [
    "With this error estimate we can then derive bounds for the last computed approximations in all three cases above."
   ]
  },
  {
   "cell_type": "markdown",
   "metadata": {},
   "source": [
    "### f).\n",
    "We can vary the $\\omega$ parameter in SOR to see how that affects the solution and the convergence time. We will note that the iteration will converge for a SPD matrix with any initial guess if $\\omega\\in(0,2)$ (*Numerical Analysis 10e*). So we will look at a number of values for $\\omega$ in this range and examine the number of iterations to converge."
   ]
  },
  {
   "cell_type": "code",
   "execution_count": 68,
   "metadata": {},
   "outputs": [],
   "source": [
    "w_vec = np.arange(0.1,2,0.1)\n",
    "I_vec = []\n",
    "for w in w_vec:\n",
    "    _, I = SOR(A, b, w)\n",
    "    I_vec.append(I)"
   ]
  },
  {
   "cell_type": "code",
   "execution_count": 69,
   "metadata": {},
   "outputs": [
    {
     "name": "stdout",
     "output_type": "stream",
     "text": [
      "Minimum: 1.200000, Iterations: 15.000000\n"
     ]
    },
    {
     "data": {
      "image/png": "[encoded data removed]",
      "text/plain": [
       "<Figure size 720x720 with 1 Axes>"
      ]
     },
     "metadata": {},
     "output_type": "display_data"
    }
   ],
   "source": [
    "fig, ax = plt.subplots(1,1,figsize=(10,10))\n",
    "ax.scatter(w_vec, I_vec)\n",
    "\n",
    "ax.set_title(r'Iterations vs $\\omega$')\n",
    "ax.set_ylabel('Iterations to Convergence')\n",
    "ax.set_xlabel(r'$\\omega$');\n",
    "print('Minimum: %f, Iterations: %f' % (w_vec[np.argmin(I_vec)], min(I_vec)))"
   ]
  },
  {
   "cell_type": "markdown",
   "metadata": {},
   "source": [
    "In the scatter plot above we see the number of iterations to convergence as a function of the parameter $\\omega$ in SOR. For the omega values investigated here (and as can be seen in the figure) the minimum is achieved with $\\omega=1.2$, and converges in 15 iterations. Thus, we see that altering $\\omega$ can have a dramatic effect on the rate of convergence in SOR."
   ]
  },
  {
   "cell_type": "markdown",
   "metadata": {},
   "source": [
    "## Problem 2"
   ]
  },
  {
   "cell_type": "markdown",
   "metadata": {},
   "source": [
    "We let $\\mathbf{A}$ be a non-singular square matrix of order $n$, and $\\mathbf{X}_0$ be an arbitrary square matrix of order $n$. Then define the following sequence of matrices:\n",
    "\n",
    "$$ \\mathbf{X}_{k+1} = \\mathbf{X}_k + \\mathbf{X}_k(\\mathbf{I}-\\mathbf{AX}_k),\\:k=1,2,... $$"
   ]
  },
  {
   "cell_type": "markdown",
   "metadata": {},
   "source": [
    "### a).\n",
    "We will show that $\\lim_{k\\to\\infty}\\mathbf{X}_k=\\mathbf{A}^{-1}$ if and only if $\\rho(\\mathbf{I}-\\mathbf{AX}_0)<1$."
   ]
  },
  {
   "cell_type": "markdown",
   "metadata": {},
   "source": [
    "### b).\n",
    "We will use this iteration (defined above) to compute the inverse of $\\mathbf{A}$ -- where $\\mathbf{A}$ and $\\mathbf{X}_0$ are defined in the code below."
   ]
  },
  {
   "cell_type": "code",
   "execution_count": 70,
   "metadata": {},
   "outputs": [],
   "source": [
    "A = np.array([[1,1],\n",
    "             [1,2]])\n",
    "\n",
    "X_0 = np.array([[1.9,-0.9],\n",
    "                [-0.9,0.9]])\n",
    "\n",
    "A_inv = np.array([[2,-1],\n",
    "                 [-1,1]]) #True inverse"
   ]
  },
  {
   "cell_type": "code",
   "execution_count": 71,
   "metadata": {},
   "outputs": [],
   "source": [
    "maxI = 100 #Max iterations\n",
    "tol = 1E-9 #Tolerance\n",
    "\n",
    "X = X_0 #Just so we can have a version of X_0 unchanged\n",
    "I = np.eye((2)) #Identity\n",
    "\n",
    "for i in range(maxI):\n",
    "    X_k = X + X@(I - A@X) #Iteration scheme\n",
    "\n",
    "    if np.linalg.norm(X_k - X, ord=np.inf)/np.linalg.norm(X_k, ord=np.inf) < tol:\n",
    "        X = X_k\n",
    "        break\n",
    "\n",
    "    X = X_k"
   ]
  },
  {
   "cell_type": "code",
   "execution_count": 72,
   "metadata": {},
   "outputs": [
    {
     "name": "stdout",
     "output_type": "stream",
     "text": [
      "Calculated inverse in 4 iterations:\n",
      "\n",
      "[[ 2. -1.]\n",
      " [-1.  1.]]\n"
     ]
    }
   ],
   "source": [
    "print('Calculated inverse in %s iterations:\\n' % i)\n",
    "print(X)"
   ]
  },
  {
   "cell_type": "markdown",
   "metadata": {},
   "source": [
    "We can see this is ... expensive than Gaussian Elimination."
   ]
  },
  {
   "cell_type": "markdown",
   "metadata": {},
   "source": [
    "## Problem 3"
   ]
  },
  {
   "cell_type": "markdown",
   "metadata": {},
   "source": [
    "We consider the following linear system where $a\\in\\mathcal{R}$:\n",
    "\n",
    "$$\n",
    "\\begin{bmatrix}\n",
    "    1 &-a\\\\\n",
    "    -a &1\n",
    "\\end{bmatrix}\n",
    "\\mathbf{x} = \\mathbf{b}\n",
    "$$"
   ]
  },
  {
   "cell_type": "markdown",
   "metadata": {},
   "source": [
    "Under certain conditions the system above can be solved with the following iterative method.\n",
    "\n",
    "$$\n",
    "\\begin{bmatrix}\n",
    "    1 &0\\\\\n",
    "    -\\omega a &1\n",
    "\\end{bmatrix}\n",
    "\\mathbf{x}_{k+1}\n",
    "=\n",
    "\\begin{bmatrix}\n",
    "    1-\\omega &\\omega a\\\\\n",
    "    0 &1-\\omega\n",
    "\\end{bmatrix}\n",
    "\\mathbf{x}_k + \\omega\\mathbf{b}\n",
    "$$"
   ]
  },
  {
   "cell_type": "markdown",
   "metadata": {},
   "source": [
    "### a).\n",
    "We want to know for which values of $a$ will the iteration converge, assuming $\\omega=1$."
   ]
  },
  {
   "cell_type": "markdown",
   "metadata": {},
   "source": [
    "### b).\n",
    "For $a=0.5$ we want to determine which $\\omega\\in\\{0.8:0.1:1.3\\}$ (that may not be proper set notation, but I think it makes sense), which minimizes the spectral radius of the following matrix.\n",
    "\n",
    "$$\n",
    "\\begin{bmatrix}\n",
    "    1 &0\\\\\n",
    "    -\\omega a &1\n",
    "\\end{bmatrix}^{-1}\n",
    "\\begin{bmatrix}\n",
    "    1-\\omega &\\omega a\\\\\n",
    "    0 &1-\\omega\n",
    "\\end{bmatrix}\n",
    "$$"
   ]
  },
  {
   "cell_type": "code",
   "execution_count": 73,
   "metadata": {},
   "outputs": [],
   "source": [
    "a = 0.5\n",
    "w_vec = np.arange(0.8, 1.4, 0.1)\n",
    "\n",
    "r_min = np.inf\n",
    "w_min = None\n",
    "\n",
    "for w in w_vec:\n",
    "    #Calculate the matrix\n",
    "    A = np.array([[1,0],[-w*a, 1]])\n",
    "    B = np.array([[1-w, w*a],[0,1-w]])\n",
    "    \n",
    "    C = np.linalg.inv(A)@B\n",
    "    \n",
    "    e_max = max(np.abs(np.linalg.eigvals(C))) #Extract max magnitude eigenvalue\n",
    "    \n",
    "    if e_max<r_min:\n",
    "        r_min = e_max\n",
    "        w_min = w"
   ]
  },
  {
   "cell_type": "code",
   "execution_count": 74,
   "metadata": {},
   "outputs": [
    {
     "name": "stdout",
     "output_type": "stream",
     "text": [
      "Minimum Spectral Radius: 0.100000, Minimizing w: 1.100000\n"
     ]
    }
   ],
   "source": [
    "print('Minimum Spectral Radius: %f, Minimizing w: %f' % (r_min, w_min))"
   ]
  }
 ],
 "metadata": {
  "kernelspec": {
   "display_name": "Python 3",
   "language": "python",
   "name": "python3"
  },
  "language_info": {
   "codemirror_mode": {
    "name": "ipython",
    "version": 3
   },
   "file_extension": ".py",
   "mimetype": "text/x-python",
   "name": "python",
   "nbconvert_exporter": "python",
   "pygments_lexer": "ipython3",
   "version": "3.7.6"
  }
 },
 "nbformat": 4,
 "nbformat_minor": 4
}
